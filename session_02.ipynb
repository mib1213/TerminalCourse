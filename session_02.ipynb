{
 "cells": [
  {
   "cell_type": "code",
   "execution_count": 245,
   "metadata": {},
   "outputs": [
    {
     "name": "stdout",
     "output_type": "stream",
     "text": [
      "hello world\n"
     ]
    }
   ],
   "source": [
    "!echo \"hello world\""
   ]
  },
  {
   "cell_type": "code",
   "execution_count": 246,
   "metadata": {},
   "outputs": [],
   "source": [
    "!rm -rf /tmp/terminal_course/"
   ]
  },
  {
   "cell_type": "markdown",
   "metadata": {},
   "source": [
    "1. Read `man ls` and write an `ls` command that lists files in the following manner\n",
    "   - Includes all files, including hidden files\n",
    "   - Sizes are listed in human-readable format (e.g. `454M` instead of `454279954`)\n",
    "   - Files are ordered by recency\n",
    "   - Output is colorized"
   ]
  },
  {
   "cell_type": "markdown",
   "metadata": {},
   "source": [
    "   - Includes all files, including hidden files"
   ]
  },
  {
   "cell_type": "code",
   "execution_count": 247,
   "metadata": {},
   "outputs": [
    {
     "name": "stdout",
     "output_type": "stream",
     "text": [
      "file1\n",
      "file2\n",
      "file3\n",
      "file4\n",
      "file5\n",
      "file6\n",
      "file7\n",
      "file8\n",
      "file9\n"
     ]
    }
   ],
   "source": [
    "%%bash\n",
    "mkdir /tmp/terminal_course\n",
    "mkdir /tmp/terminal_course/temp\n",
    "cd /tmp/terminal_course/temp\n",
    "touch file{1..9}\n",
    "ls"
   ]
  },
  {
   "cell_type": "markdown",
   "metadata": {},
   "source": [
    "   - Sizes are listed in human-readable format (e.g. `454M` instead of `454279954`)"
   ]
  },
  {
   "cell_type": "code",
   "execution_count": 248,
   "metadata": {},
   "outputs": [
    {
     "name": "stdout",
     "output_type": "stream",
     "text": [
      "total 0\n",
      "-rw-r--r--  1 omer  wheel     0B Dec 17 23:32 file1\n",
      "-rw-r--r--  1 omer  wheel     0B Dec 17 23:32 file2\n",
      "-rw-r--r--  1 omer  wheel     0B Dec 17 23:32 file3\n",
      "-rw-r--r--  1 omer  wheel     0B Dec 17 23:32 file4\n",
      "-rw-r--r--  1 omer  wheel     0B Dec 17 23:32 file5\n",
      "-rw-r--r--  1 omer  wheel     0B Dec 17 23:32 file6\n",
      "-rw-r--r--  1 omer  wheel     0B Dec 17 23:32 file7\n",
      "-rw-r--r--  1 omer  wheel     0B Dec 17 23:32 file8\n",
      "-rw-r--r--  1 omer  wheel     0B Dec 17 23:32 file9\n"
     ]
    }
   ],
   "source": [
    "%%bash\n",
    "cd /tmp/terminal_course/temp \n",
    "ls -lh"
   ]
  },
  {
   "cell_type": "markdown",
   "metadata": {},
   "source": [
    "   - Files are ordered by recency"
   ]
  },
  {
   "cell_type": "code",
   "execution_count": 249,
   "metadata": {},
   "outputs": [
    {
     "name": "stdout",
     "output_type": "stream",
     "text": [
      "file9\n",
      "file8\n",
      "file7\n",
      "file6\n",
      "file5\n",
      "file4\n",
      "file3\n",
      "file2\n",
      "file1\n"
     ]
    }
   ],
   "source": [
    "%%bash\n",
    "cd /tmp/terminal_course/temp \n",
    "ls -r"
   ]
  },
  {
   "cell_type": "markdown",
   "metadata": {},
   "source": [
    "   - Files are ordered by recency"
   ]
  },
  {
   "cell_type": "code",
   "execution_count": 250,
   "metadata": {},
   "outputs": [
    {
     "name": "stdout",
     "output_type": "stream",
     "text": [
      "total 0\n",
      "-rw-r--r--  1 omer  wheel     0B Dec 17 23:32 file9\n",
      "-rw-r--r--  1 omer  wheel     0B Dec 17 23:32 file8\n",
      "-rw-r--r--  1 omer  wheel     0B Dec 17 23:32 file7\n",
      "-rw-r--r--  1 omer  wheel     0B Dec 17 23:32 file6\n",
      "-rw-r--r--  1 omer  wheel     0B Dec 17 23:32 file5\n",
      "-rw-r--r--  1 omer  wheel     0B Dec 17 23:32 file4\n",
      "-rw-r--r--  1 omer  wheel     0B Dec 17 23:32 file3\n",
      "-rw-r--r--  1 omer  wheel     0B Dec 17 23:32 file2\n",
      "-rw-r--r--  1 omer  wheel     0B Dec 17 23:32 file1\n"
     ]
    }
   ],
   "source": [
    "%%bash\n",
    "cd /tmp/terminal_course/temp \n",
    "ls -t -lh"
   ]
  },
  {
   "cell_type": "markdown",
   "metadata": {},
   "source": [
    "   - Output is colorized"
   ]
  },
  {
   "cell_type": "code",
   "execution_count": 251,
   "metadata": {},
   "outputs": [
    {
     "name": "stdout",
     "output_type": "stream",
     "text": [
      "total 0\n",
      "-rw-r--r--  1 omer  wheel     0B Dec 17 23:32 file1\n",
      "-rw-r--r--  1 omer  wheel     0B Dec 17 23:32 file2\n",
      "-rw-r--r--  1 omer  wheel     0B Dec 17 23:32 file3\n",
      "-rw-r--r--  1 omer  wheel     0B Dec 17 23:32 file4\n",
      "-rw-r--r--  1 omer  wheel     0B Dec 17 23:32 file5\n",
      "-rw-r--r--  1 omer  wheel     0B Dec 17 23:32 file6\n",
      "-rw-r--r--  1 omer  wheel     0B Dec 17 23:32 file7\n",
      "-rw-r--r--  1 omer  wheel     0B Dec 17 23:32 file8\n",
      "-rw-r--r--  1 omer  wheel     0B Dec 17 23:32 file9\n"
     ]
    }
   ],
   "source": [
    "%%bash \n",
    "cd /tmp/terminal_course/temp\n",
    "ls -lh -G # not showing the color output!"
   ]
  },
  {
   "cell_type": "code",
   "execution_count": 252,
   "metadata": {},
   "outputs": [],
   "source": [
    "!rm -rf /tmp/terminal_course/temp"
   ]
  },
  {
   "cell_type": "markdown",
   "metadata": {},
   "source": [
    "2. Predict the outcome of the following code: \n",
    "\n",
    ">     #!/bin/sh\n",
    ">     for i in hello 1 * 2 goodbye \n",
    ">     do\n",
    ">        echo \"Looping ... i is set to $i\"\n",
    ">     done\n",
    "\n",
    "Make sure that you understand what is happening here. Try it without the `*` and try it again with the `*` in place. Try it also in different directories, and with the `*` surrounded by double quotes and surrounded by single quotes, and try it preceded by a backslash (`\\*`), and also single quotes plus backslash as well as double quotes plus backslash."
   ]
  },
  {
   "cell_type": "code",
   "execution_count": 253,
   "metadata": {},
   "outputs": [
    {
     "name": "stdout",
     "output_type": "stream",
     "text": [
      "#!/bin/sh\n",
      "for i in hello 1 * 2 goodbye\n",
      "do\n",
      "  echo \"Looping ... i is set to $i\";\n",
      "done;\n"
     ]
    }
   ],
   "source": [
    "%%bash \n",
    "cd /tmp/terminal_course \n",
    "echo '#!/bin/sh' > for_loop.sh\n",
    "echo 'for i in hello 1 * 2 goodbye' >> for_loop.sh\n",
    "echo 'do' >> for_loop.sh\n",
    "echo '  echo \"Looping ... i is set to $i\";' >> for_loop.sh\n",
    "echo 'done;' >> for_loop.sh\n",
    "chmod u+x for_loop.sh\n",
    "cat for_loop.sh"
   ]
  },
  {
   "cell_type": "code",
   "execution_count": 254,
   "metadata": {},
   "outputs": [
    {
     "name": "stdout",
     "output_type": "stream",
     "text": [
      "Looping ... i is set to hello\n",
      "Looping ... i is set to 1\n",
      "Looping ... i is set to for_loop.sh\n",
      "Looping ... i is set to 2\n",
      "Looping ... i is set to goodbye\n"
     ]
    }
   ],
   "source": [
    "%%bash\n",
    "cd /tmp/terminal_course\n",
    "./for_loop.sh"
   ]
  },
  {
   "cell_type": "markdown",
   "metadata": {},
   "source": [
    "Try it without the `*`"
   ]
  },
  {
   "cell_type": "code",
   "execution_count": 255,
   "metadata": {},
   "outputs": [
    {
     "name": "stdout",
     "output_type": "stream",
     "text": [
      "#!/bin/sh\n",
      "for i in hello 1 2 goodbye\n",
      "do\n",
      "  echo \"Looping ... i is set to $i\";\n",
      "done;\n"
     ]
    }
   ],
   "source": [
    "%%bash\n",
    "cd /tmp/terminal_course\n",
    "sed -i '' '2s/* //' for_loop.sh # not sure why /* // replaces \" * \" to \" \", but not / * //\n",
    "# also apparently you have to use '' after -i in macOS, but not in WSL in windows.\n",
    "cat for_loop.sh"
   ]
  },
  {
   "cell_type": "code",
   "execution_count": 256,
   "metadata": {},
   "outputs": [
    {
     "name": "stdout",
     "output_type": "stream",
     "text": [
      "Looping ... i is set to hello\n",
      "Looping ... i is set to 1\n",
      "Looping ... i is set to 2\n",
      "Looping ... i is set to goodbye\n"
     ]
    }
   ],
   "source": [
    "%%bash\n",
    "cd /tmp/terminal_course \n",
    "./for_loop.sh"
   ]
  },
  {
   "cell_type": "markdown",
   "metadata": {},
   "source": [
    "Try it also in different directories"
   ]
  },
  {
   "cell_type": "code",
   "execution_count": 257,
   "metadata": {},
   "outputs": [
    {
     "name": "stdout",
     "output_type": "stream",
     "text": [
      "#!/bin/sh\n",
      "for i in hello 1 * 2 goodbye\n",
      "do\n",
      "  echo \"Looping ... i is set to $i\";\n",
      "done;\n"
     ]
    }
   ],
   "source": [
    "%%bash\n",
    "cd /tmp/terminal_course\n",
    "sed -i '' '2s/1 2/1 * 2/' for_loop.sh\n",
    "cat for_loop.sh"
   ]
  },
  {
   "cell_type": "code",
   "execution_count": 258,
   "metadata": {},
   "outputs": [
    {
     "name": "stdout",
     "output_type": "stream",
     "text": [
      "file1\n",
      "file2\n",
      "file3\n",
      "file4\n",
      "file5\n",
      "file6\n",
      "file7\n",
      "file8\n",
      "file9\n",
      "\u001b[31mfor_loop.sh\u001b[m\u001b[m\n"
     ]
    }
   ],
   "source": [
    "%%bash\n",
    "cd /tmp/terminal_course\n",
    "mkdir temp\n",
    "cp for_loop.sh temp/\n",
    "cd temp\n",
    "touch file{1..9}\n",
    "ls"
   ]
  },
  {
   "cell_type": "code",
   "execution_count": 259,
   "metadata": {},
   "outputs": [
    {
     "name": "stdout",
     "output_type": "stream",
     "text": [
      "Looping ... i is set to hello\n",
      "Looping ... i is set to 1\n",
      "Looping ... i is set to file1\n",
      "Looping ... i is set to file2\n",
      "Looping ... i is set to file3\n",
      "Looping ... i is set to file4\n",
      "Looping ... i is set to file5\n",
      "Looping ... i is set to file6\n",
      "Looping ... i is set to file7\n",
      "Looping ... i is set to file8\n",
      "Looping ... i is set to file9\n",
      "Looping ... i is set to for_loop.sh\n",
      "Looping ... i is set to 2\n",
      "Looping ... i is set to goodbye\n"
     ]
    }
   ],
   "source": [
    "%%bash\n",
    "cd /tmp/terminal_course/temp \n",
    "./for_loop.sh"
   ]
  },
  {
   "cell_type": "markdown",
   "metadata": {},
   "source": [
    "try `*` surrounded by double quotes"
   ]
  },
  {
   "cell_type": "code",
   "execution_count": 260,
   "metadata": {},
   "outputs": [
    {
     "name": "stdout",
     "output_type": "stream",
     "text": [
      "#!/bin/sh\n",
      "for i in hello 1 \"*\" 2 goodbye\n",
      "do\n",
      "  echo \"Looping ... i is set to $i\";\n",
      "done;\n"
     ]
    }
   ],
   "source": [
    "%%bash\n",
    "cd /tmp/terminal_course/temp \n",
    "sed -i '' '2s/*/\\\"*\\\"/' for_loop.sh\n",
    "cat for_loop.sh"
   ]
  },
  {
   "cell_type": "code",
   "execution_count": 261,
   "metadata": {},
   "outputs": [
    {
     "name": "stdout",
     "output_type": "stream",
     "text": [
      "Looping ... i is set to hello\n",
      "Looping ... i is set to 1\n",
      "Looping ... i is set to *\n",
      "Looping ... i is set to 2\n",
      "Looping ... i is set to goodbye\n"
     ]
    }
   ],
   "source": [
    "%%bash \n",
    "cd /tmp/terminal_course/temp \n",
    "./for_loop.sh"
   ]
  },
  {
   "cell_type": "markdown",
   "metadata": {},
   "source": [
    "try `*` surrounded by single quotes"
   ]
  },
  {
   "cell_type": "markdown",
   "metadata": {},
   "source": [
    "```bash\n",
    "cd /tmp/terminal_course/temp \n",
    "cat for_loop.sh\n",
    "```\n",
    "> #!/bin/sh\n",
    "\n",
    "> for i in hello 1 '*' 2 goodbye\n",
    "> do\n",
    ">  echo \"Looping ... i is set to $i\";\n",
    "> done;\n",
    "\n",
    "```bash\n",
    "cd /tmp/terminal_course/temp \n",
    "./for_loop.sh\n",
    "```\n",
    "\n",
    "> Looping ... i is set to hello\n",
    "\n",
    "> Looping ... i is set to 1\n",
    "\n",
    "> Looping ... i is set to *\n",
    "\n",
    "> Looping ... i is set to 2\n",
    "\n",
    "> Looping ... i is set to goodbye"
   ]
  },
  {
   "cell_type": "markdown",
   "metadata": {},
   "source": [
    "try when `*` is preceded by a backslach `\\`"
   ]
  },
  {
   "cell_type": "markdown",
   "metadata": {},
   "source": [
    "```bash\n",
    "cd /tmp/terminal_course/temp \n",
    "cat for_loop.sh\n",
    "```\n",
    "> #!/bin/sh\n",
    "\n",
    "> for i in hello 1 \\* 2 goodbye\n",
    "\n",
    "> do\n",
    "\n",
    ">   echo \"Looping ... i is set to $i\";\n",
    "\n",
    "> done;\n",
    "\n",
    "```bash\n",
    "cd /tmp/terminal_course/temp \n",
    "./for_loop.sh\n",
    "```\n",
    "\n",
    "> Looping ... i is set to hello\n",
    "\n",
    "> Looping ... i is set to 1\n",
    "\n",
    "> Looping ... i is set to *\n",
    "\n",
    "> Looping ... i is set to 2\n",
    "\n",
    "> Looping ... i is set to goodbye"
   ]
  },
  {
   "cell_type": "markdown",
   "metadata": {},
   "source": [
    "try when `'\\*'` "
   ]
  },
  {
   "cell_type": "markdown",
   "metadata": {},
   "source": [
    "```bash\n",
    "cd /tmp/terminal_course/temp \n",
    "cat for_loop.sh\n",
    "```\n",
    "> #!/bin/sh\n",
    "\n",
    "> for i in hello 1 '\\*' 2 goodbye\n",
    "\n",
    "> do\n",
    "\n",
    ">  echo \"Looping ... i is set to $i\";\n",
    "\n",
    "> done;\n",
    "\n",
    "```bash\n",
    "cd /tmp/terminal_course/temp \n",
    "./for_loop.sh\n",
    "```\n",
    "\n",
    "> Looping ... i is set to hello\n",
    "\n",
    "> Looping ... i is set to 1\n",
    "\n",
    "> Looping ... i is set to \\*\n",
    "\n",
    "> Looping ... i is set to 2\n",
    "\n",
    "> Looping ... i is set to goodbye"
   ]
  },
  {
   "cell_type": "markdown",
   "metadata": {},
   "source": [
    "try when `\"\\*\"`"
   ]
  },
  {
   "cell_type": "markdown",
   "metadata": {},
   "source": [
    "```bash\n",
    "cd /tmp/terminal_course/temp \n",
    "cat for_loop.sh\n",
    "```\n",
    "> #!/bin/sh\n",
    "\n",
    "> for i in hello 1 \"\\*\" 2 goodbye\n",
    "\n",
    "> do\n",
    "\n",
    ">   echo \"Looping ... i is set to $i\";\n",
    "\n",
    "> done;\n",
    "\n",
    "```bash\n",
    "cd /tmp/terminal_course/temp \n",
    "./for_loop.sh\n",
    "```\n",
    "\n",
    "> Looping ... i is set to hello\n",
    "\n",
    "> Looping ... i is set to 1\n",
    "\n",
    "> Looping ... i is set to \\*\n",
    "\n",
    "> Looping ... i is set to 2\n",
    "\n",
    "> Looping ... i is set to goodbye"
   ]
  },
  {
   "cell_type": "markdown",
   "metadata": {},
   "source": [
    "**Conclusion:** `*` symbol without any double or single quotes acts like a wild card, with single or double quotes it acts like a literal `*` symbol and also when preceded by a backslach `\\`, it also acts like a literal, because `\\` is an escape character. Also when using `\\*` inside the double or single quotes, `\\` also acts like a literal and not an escape character anymore.\n",
    "\n",
    "The following cases are exactly the same:\n",
    "```bash\n",
    "echo \"*\"\n",
    "echo '*'\n",
    "echo \\*\n",
    "```"
   ]
  },
  {
   "cell_type": "code",
   "execution_count": 266,
   "metadata": {},
   "outputs": [
    {
     "name": "stdout",
     "output_type": "stream",
     "text": [
      ".hidden\n",
      "file1\n",
      "file2\n",
      "file3\n",
      "file4\n",
      "file5\n",
      "file6\n",
      "file7\n",
      "file8\n",
      "file9\n",
      "\u001b[31mfor_loop.sh\u001b[m\u001b[m\n"
     ]
    }
   ],
   "source": [
    "%%bash\n",
    "cd /tmp/terminal_course/temp\n",
    "touch .hidden\n",
    "ls -A"
   ]
  },
  {
   "cell_type": "markdown",
   "metadata": {},
   "source": [
    "3. Write a short `for` loop that counts all files (including hidden files) in the current directory. Check your result with the help of piping and `wc`! "
   ]
  },
  {
   "cell_type": "code",
   "execution_count": 287,
   "metadata": {},
   "outputs": [
    {
     "name": "stdout",
     "output_type": "stream",
     "text": [
      "11\n",
      "      11\n"
     ]
    }
   ],
   "source": [
    "%%bash\n",
    "cd /tmp/terminal_course/temp \n",
    "counter=0; for i in $(ls -A); do ((counter=counter+1)); done;\n",
    "echo $counter\n",
    "ls -A | wc -l"
   ]
  },
  {
   "cell_type": "markdown",
   "metadata": {},
   "source": [
    "4. Write a short `for` loop that renames all files (hidden files excluded) in a directory of your choice (but not the directory `terminal_course`!) in such a way that all spaces are replaced by underscores `_`. "
   ]
  },
  {
   "cell_type": "code",
   "execution_count": 313,
   "metadata": {},
   "outputs": [
    {
     "name": "stdout",
     "output_type": "stream",
     "text": [
      "file 1\n",
      "file 2\n",
      "file 3\n",
      "file 4\n",
      "file 5\n",
      "file 6\n",
      "file 7\n",
      "file 8\n",
      "file 9\n"
     ]
    }
   ],
   "source": [
    "%%bash\n",
    "cd /tmp/terminal_course/temp \n",
    "rm -rf *\n",
    "touch file\\ {1..9}\n",
    "ls"
   ]
  },
  {
   "cell_type": "code",
   "execution_count": 314,
   "metadata": {},
   "outputs": [
    {
     "name": "stdout",
     "output_type": "stream",
     "text": [
      "file_1\n",
      "file_2\n",
      "file_3\n",
      "file_4\n",
      "file_5\n",
      "file_6\n",
      "file_7\n",
      "file_8\n",
      "file_9\n"
     ]
    }
   ],
   "source": [
    "%%bash\n",
    "cd /tmp/terminal_course/temp \n",
    "for file in *; do mv \"$file\" \"${file/ /_}\"; done;\n",
    "ls"
   ]
  },
  {
   "cell_type": "markdown",
   "metadata": {},
   "source": [
    "6. Check out the program `dir_tree_gen`."
   ]
  },
  {
   "cell_type": "markdown",
   "metadata": {},
   "source": [
    "   1. Make sure it is in the same directory as `data`. Then, execute it (how?). What does it do?"
   ]
  },
  {
   "cell_type": "code",
   "execution_count": 343,
   "metadata": {},
   "outputs": [],
   "source": [
    "%%bash\n",
    "cd /tmp/terminal_course\n",
    "rm -rf *\n",
    "ls"
   ]
  },
  {
   "cell_type": "code",
   "execution_count": 344,
   "metadata": {},
   "outputs": [
    {
     "name": "stdout",
     "output_type": "stream",
     "text": [
      "\u001b[34mdata\u001b[m\u001b[m\n",
      "dir_tree_gen\n"
     ]
    }
   ],
   "source": [
    "%%bash\n",
    "cd /tmp/terminal_course \n",
    "cp -r /Users/omer/Programming/terminal_course/data .\n",
    "cp /Users/omer/Programming/terminal_course/dir_tree_gen .\n",
    "ls"
   ]
  },
  {
   "cell_type": "code",
   "execution_count": 345,
   "metadata": {},
   "outputs": [
    {
     "name": "stdout",
     "output_type": "stream",
     "text": [
      "\u001b[34mdata\u001b[m\u001b[m\n",
      "\u001b[31mdir_tree_gen\u001b[m\u001b[m\n",
      "\u001b[34mtopdir\u001b[m\u001b[m\n"
     ]
    }
   ],
   "source": [
    "%%bash\n",
    "cd /tmp/terminal_course\n",
    "chmod u+xwr dir_tree_gen\n",
    "./dir_tree_gen\n",
    "ls"
   ]
  },
  {
   "cell_type": "markdown",
   "metadata": {},
   "source": [
    "   2. After having finished i.:\n",
    "       - How many directories does `topdir` contain? \n",
    "       - How many `txt` files does `topdir` contain?\n",
    "       - Which of these `txt` files contain the string `love` most often?"
   ]
  },
  {
   "cell_type": "code",
   "execution_count": 346,
   "metadata": {},
   "outputs": [
    {
     "name": "stdout",
     "output_type": "stream",
     "text": [
      "   55988\n"
     ]
    }
   ],
   "source": [
    "%%bash \n",
    "cd /tmp/terminal_course/topdir \n",
    "find . -type d | wc -l"
   ]
  },
  {
   "cell_type": "code",
   "execution_count": 347,
   "metadata": {},
   "outputs": [
    {
     "name": "stdout",
     "output_type": "stream",
     "text": [
      "  111974\n"
     ]
    }
   ],
   "source": [
    "%%bash \n",
    "cd /tmp/terminal_course/topdir \n",
    "find . -type f -name '*.txt' | wc -l"
   ]
  },
  {
   "cell_type": "code",
   "execution_count": 348,
   "metadata": {},
   "outputs": [
    {
     "name": "stdout",
     "output_type": "stream",
     "text": [
      "       0\n"
     ]
    }
   ],
   "source": [
    "%%bash \n",
    "cd /tmp/terminal_course/topdir \n",
    "find . -type f -name '*.txt' | xargs cat | grep -o 'love' | wc -l"
   ]
  }
 ],
 "metadata": {
  "kernelspec": {
   "display_name": "jupyter_env_1",
   "language": "python",
   "name": "python3"
  },
  "language_info": {
   "codemirror_mode": {
    "name": "ipython",
    "version": 3
   },
   "file_extension": ".py",
   "mimetype": "text/x-python",
   "name": "python",
   "nbconvert_exporter": "python",
   "pygments_lexer": "ipython3",
   "version": "3.11.9"
  }
 },
 "nbformat": 4,
 "nbformat_minor": 2
}
