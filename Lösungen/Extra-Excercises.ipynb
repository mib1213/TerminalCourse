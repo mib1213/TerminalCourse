{
 "cells": [
  {
   "cell_type": "code",
   "execution_count": 104,
   "id": "2a98d9cc-4e0d-4689-91e0-15e130662137",
   "metadata": {},
   "outputs": [],
   "source": [
    "cd /tmp\n",
    "rm -rf terminal_course"
   ]
  },
  {
   "cell_type": "code",
   "execution_count": 105,
   "id": "bdd9482e-6a31-4cde-8264-d6e05a520811",
   "metadata": {},
   "outputs": [
    {
     "name": "stdout",
     "output_type": "stream",
     "text": [
      "/tmp/terminal_course\n"
     ]
    }
   ],
   "source": [
    "cd /tmp\n",
    "mkdir terminal_course\n",
    "cd terminal_course\n",
    "pwd"
   ]
  },
  {
   "cell_type": "markdown",
   "id": "fabf6bb1-6407-422c-84a5-2714f3d642a8",
   "metadata": {},
   "source": [
    "Write bash functions marco and polo that do the following. Whenever you execute marco the current working directory should be saved in some manner, then when you execute polo, no matter what directory you are in, polo should cd you back to the directory where you executed marco. For ease of debugging you can write the code in a file marco.sh and (re)load the definitions to your shell by executing source marco.sh."
   ]
  },
  {
   "cell_type": "code",
   "execution_count": 106,
   "id": "93982e39-dd97-4a74-881a-f09f5bb7d1ef",
   "metadata": {},
   "outputs": [
    {
     "name": "stdout",
     "output_type": "stream",
     "text": [
      "/tmp/terminal_course/dir1\n"
     ]
    }
   ],
   "source": [
    "mkdir dir1\n",
    "cd dir1\n",
    "pwd"
   ]
  },
  {
   "cell_type": "code",
   "execution_count": 107,
   "id": "e32cca74-162b-457c-bcef-ca890f9aa7f1",
   "metadata": {},
   "outputs": [
    {
     "name": "stdout",
     "output_type": "stream",
     "text": [
      "#!/usr/bin/env bash\n",
      "marco () {\n",
      "    cwd=$(pwd)\n",
      "};\n"
     ]
    }
   ],
   "source": [
    "cat << 'EOF' > marco.sh\n",
    "#!/usr/bin/env bash\n",
    "marco () {\n",
    "    cwd=$(pwd)\n",
    "};\n",
    "EOF\n",
    "cat marco.sh"
   ]
  },
  {
   "cell_type": "code",
   "execution_count": 108,
   "id": "4403e64b-6669-4c65-861a-16620a3a4337",
   "metadata": {},
   "outputs": [
    {
     "name": "stdout",
     "output_type": "stream",
     "text": [
      "cwd = /tmp/terminal_course/dir1\n"
     ]
    }
   ],
   "source": [
    "source marco.sh\n",
    "marco\n",
    "echo cwd = $cwd"
   ]
  },
  {
   "cell_type": "code",
   "execution_count": 109,
   "id": "5877e876-851a-4855-b00c-6d4eeb37f472",
   "metadata": {},
   "outputs": [
    {
     "name": "stdout",
     "output_type": "stream",
     "text": [
      "/tmp/terminal_course/dir2\n"
     ]
    }
   ],
   "source": [
    "cd /tmp/terminal_course\n",
    "mkdir dir2\n",
    "cd dir2\n",
    "pwd"
   ]
  },
  {
   "cell_type": "code",
   "execution_count": 110,
   "id": "5a70a256-d8f5-4bdd-bc43-80aaaee92c62",
   "metadata": {},
   "outputs": [
    {
     "name": "stdout",
     "output_type": "stream",
     "text": [
      "#!/usr/bin/env bash\n",
      "polo () {\n",
      "    cd $cwd\n",
      "};\n"
     ]
    }
   ],
   "source": [
    "cat << 'EOF' > polo.sh\n",
    "#!/usr/bin/env bash\n",
    "polo () {\n",
    "    cd $cwd\n",
    "};\n",
    "EOF\n",
    "cat polo.sh"
   ]
  },
  {
   "cell_type": "code",
   "execution_count": 111,
   "id": "f7a523ef-9eff-4fba-87c4-2b92a8ba150c",
   "metadata": {},
   "outputs": [
    {
     "name": "stdout",
     "output_type": "stream",
     "text": [
      "current_path = /tmp/terminal_course/dir2\n",
      "path_changed_to = /tmp/terminal_course/dir1 because the program marco.sh is here.\n"
     ]
    }
   ],
   "source": [
    "source polo.sh\n",
    "echo current_path = $(pwd)\n",
    "polo\n",
    "echo path_changed_to = $(pwd) because the program $(ls) is here."
   ]
  },
  {
   "cell_type": "code",
   "execution_count": 112,
   "id": "d4fe0edb-f89a-418a-9243-614fdea08f81",
   "metadata": {},
   "outputs": [
    {
     "name": "stdout",
     "output_type": "stream",
     "text": [
      "/tmp/terminal_course\n"
     ]
    }
   ],
   "source": [
    "cd /tmp/terminal_course\n",
    "rm -rf *\n",
    "pwd; ls"
   ]
  },
  {
   "cell_type": "markdown",
   "id": "e09cd554-528b-49ca-88d4-12856b8de394",
   "metadata": {},
   "source": [
    "Write a command that recursively finds all HTML files in the folder and makes a zip with them. Note that your command should work even if the files have spaces (hint: check -d flag for xargs)."
   ]
  },
  {
   "cell_type": "code",
   "execution_count": 113,
   "id": "b4f08b92-2e40-4e20-b4f3-922fbe0eebd9",
   "metadata": {},
   "outputs": [
    {
     "name": "stdout",
     "output_type": "stream",
     "text": [
      "      81\n"
     ]
    }
   ],
   "source": [
    "mkdir -p dir{1..9}\n",
    "touch dir{1..9}/file\\ {1..9}.html\n",
    "find . -type f -name '*.html' | wc -l"
   ]
  },
  {
   "cell_type": "code",
   "execution_count": 114,
   "id": "add91e1a-1a40-4b22-8907-4a433b87f2b5",
   "metadata": {},
   "outputs": [
    {
     "name": "stdout",
     "output_type": "stream",
     "text": [
      "  adding: dir2/file 6.html (stored 0%)\n",
      "  adding: dir2/file 7.html (stored 0%)\n",
      "  adding: dir2/file 1.html (stored 0%)\n",
      "  adding: dir2/file 2.html (stored 0%)\n",
      "  adding: dir2/file 3.html (stored 0%)\n",
      "  adding: dir2/file 8.html (stored 0%)\n",
      "  adding: dir2/file 4.html (stored 0%)\n",
      "  adding: dir2/file 5.html (stored 0%)\n",
      "  adding: dir2/file 9.html (stored 0%)\n",
      "  adding: dir5/file 6.html (stored 0%)\n",
      "  adding: dir5/file 7.html (stored 0%)\n",
      "  adding: dir5/file 1.html (stored 0%)\n",
      "  adding: dir5/file 2.html (stored 0%)\n",
      "  adding: dir5/file 3.html (stored 0%)\n",
      "  adding: dir5/file 8.html (stored 0%)\n",
      "  adding: dir5/file 4.html (stored 0%)\n",
      "  adding: dir5/file 5.html (stored 0%)\n",
      "  adding: dir5/file 9.html (stored 0%)\n",
      "  adding: dir4/file 6.html (stored 0%)\n",
      "  adding: dir4/file 7.html (stored 0%)\n",
      "  adding: dir4/file 1.html (stored 0%)\n",
      "  adding: dir4/file 2.html (stored 0%)\n",
      "  adding: dir4/file 3.html (stored 0%)\n",
      "  adding: dir4/file 8.html (stored 0%)\n",
      "  adding: dir4/file 4.html (stored 0%)\n",
      "  adding: dir4/file 5.html (stored 0%)\n",
      "  adding: dir4/file 9.html (stored 0%)\n",
      "  adding: dir3/file 6.html (stored 0%)\n",
      "  adding: dir3/file 7.html (stored 0%)\n",
      "  adding: dir3/file 1.html (stored 0%)\n",
      "  adding: dir3/file 2.html (stored 0%)\n",
      "  adding: dir3/file 3.html (stored 0%)\n",
      "  adding: dir3/file 8.html (stored 0%)\n",
      "  adding: dir3/file 4.html (stored 0%)\n",
      "  adding: dir3/file 5.html (stored 0%)\n",
      "  adding: dir3/file 9.html (stored 0%)\n",
      "  adding: dir6/file 6.html (stored 0%)\n",
      "  adding: dir6/file 7.html (stored 0%)\n",
      "  adding: dir6/file 1.html (stored 0%)\n",
      "  adding: dir6/file 2.html (stored 0%)\n",
      "  adding: dir6/file 3.html (stored 0%)\n",
      "  adding: dir6/file 8.html (stored 0%)\n",
      "  adding: dir6/file 4.html (stored 0%)\n",
      "  adding: dir6/file 5.html (stored 0%)\n",
      "  adding: dir6/file 9.html (stored 0%)\n",
      "  adding: dir1/file 6.html (stored 0%)\n",
      "  adding: dir1/file 7.html (stored 0%)\n",
      "  adding: dir1/file 1.html (stored 0%)\n",
      "  adding: dir1/file 2.html (stored 0%)\n",
      "  adding: dir1/file 3.html (stored 0%)\n",
      "  adding: dir1/file 8.html (stored 0%)\n",
      "  adding: dir1/file 4.html (stored 0%)\n",
      "  adding: dir1/file 5.html (stored 0%)\n",
      "  adding: dir1/file 9.html (stored 0%)\n",
      "  adding: dir8/file 6.html (stored 0%)\n",
      "  adding: dir8/file 7.html (stored 0%)\n",
      "  adding: dir8/file 1.html (stored 0%)\n",
      "  adding: dir8/file 2.html (stored 0%)\n",
      "  adding: dir8/file 3.html (stored 0%)\n",
      "  adding: dir8/file 8.html (stored 0%)\n",
      "  adding: dir8/file 4.html (stored 0%)\n",
      "  adding: dir8/file 5.html (stored 0%)\n",
      "  adding: dir8/file 9.html (stored 0%)\n",
      "  adding: dir9/file 6.html (stored 0%)\n",
      "  adding: dir9/file 7.html (stored 0%)\n",
      "  adding: dir9/file 1.html (stored 0%)\n",
      "  adding: dir9/file 2.html (stored 0%)\n",
      "  adding: dir9/file 3.html (stored 0%)\n",
      "  adding: dir9/file 8.html (stored 0%)\n",
      "  adding: dir9/file 4.html (stored 0%)\n",
      "  adding: dir9/file 5.html (stored 0%)\n",
      "  adding: dir9/file 9.html (stored 0%)\n",
      "  adding: dir7/file 6.html (stored 0%)\n",
      "  adding: dir7/file 7.html (stored 0%)\n",
      "  adding: dir7/file 1.html (stored 0%)\n",
      "  adding: dir7/file 2.html (stored 0%)\n",
      "  adding: dir7/file 3.html (stored 0%)\n",
      "  adding: dir7/file 8.html (stored 0%)\n",
      "  adding: dir7/file 4.html (stored 0%)\n",
      "  adding: dir7/file 5.html (stored 0%)\n",
      "  adding: dir7/file 9.html (stored 0%)\n",
      "dir1\t\tdir3\t\tdir5\t\tdir7\t\tdir9\n",
      "dir2\t\tdir4\t\tdir6\t\tdir8\t\tfiles.zip\n"
     ]
    }
   ],
   "source": [
    "find . -type f -name '*.html' -exec zip files.zip {} +\n",
    "ls"
   ]
  },
  {
   "cell_type": "code",
   "execution_count": 115,
   "id": "d3b62068-90f9-469f-88b6-00c7aedccebe",
   "metadata": {},
   "outputs": [
    {
     "name": "stdout",
     "output_type": "stream",
     "text": [
      "files.zip: Zip archive data, at least v1.0 to extract, compression method=store\n"
     ]
    }
   ],
   "source": [
    "file files.zip"
   ]
  },
  {
   "cell_type": "code",
   "execution_count": 116,
   "id": "c7b03b44-2b7b-4f5e-9060-8f116454ad90",
   "metadata": {},
   "outputs": [
    {
     "name": "stdout",
     "output_type": "stream",
     "text": [
      "Archive:  files.zip\n",
      " extracting: extracted_dir/dir2/file 6.html  \n",
      " extracting: extracted_dir/dir2/file 7.html  \n",
      " extracting: extracted_dir/dir2/file 1.html  \n",
      " extracting: extracted_dir/dir2/file 2.html  \n",
      " extracting: extracted_dir/dir2/file 3.html  \n",
      " extracting: extracted_dir/dir2/file 8.html  \n",
      " extracting: extracted_dir/dir2/file 4.html  \n",
      " extracting: extracted_dir/dir2/file 5.html  \n",
      " extracting: extracted_dir/dir2/file 9.html  \n",
      " extracting: extracted_dir/dir5/file 6.html  \n",
      " extracting: extracted_dir/dir5/file 7.html  \n",
      " extracting: extracted_dir/dir5/file 1.html  \n",
      " extracting: extracted_dir/dir5/file 2.html  \n",
      " extracting: extracted_dir/dir5/file 3.html  \n",
      " extracting: extracted_dir/dir5/file 8.html  \n",
      " extracting: extracted_dir/dir5/file 4.html  \n",
      " extracting: extracted_dir/dir5/file 5.html  \n",
      " extracting: extracted_dir/dir5/file 9.html  \n",
      " extracting: extracted_dir/dir4/file 6.html  \n",
      " extracting: extracted_dir/dir4/file 7.html  \n",
      " extracting: extracted_dir/dir4/file 1.html  \n",
      " extracting: extracted_dir/dir4/file 2.html  \n",
      " extracting: extracted_dir/dir4/file 3.html  \n",
      " extracting: extracted_dir/dir4/file 8.html  \n",
      " extracting: extracted_dir/dir4/file 4.html  \n",
      " extracting: extracted_dir/dir4/file 5.html  \n",
      " extracting: extracted_dir/dir4/file 9.html  \n",
      " extracting: extracted_dir/dir3/file 6.html  \n",
      " extracting: extracted_dir/dir3/file 7.html  \n",
      " extracting: extracted_dir/dir3/file 1.html  \n",
      " extracting: extracted_dir/dir3/file 2.html  \n",
      " extracting: extracted_dir/dir3/file 3.html  \n",
      " extracting: extracted_dir/dir3/file 8.html  \n",
      " extracting: extracted_dir/dir3/file 4.html  \n",
      " extracting: extracted_dir/dir3/file 5.html  \n",
      " extracting: extracted_dir/dir3/file 9.html  \n",
      " extracting: extracted_dir/dir6/file 6.html  \n",
      " extracting: extracted_dir/dir6/file 7.html  \n",
      " extracting: extracted_dir/dir6/file 1.html  \n",
      " extracting: extracted_dir/dir6/file 2.html  \n",
      " extracting: extracted_dir/dir6/file 3.html  \n",
      " extracting: extracted_dir/dir6/file 8.html  \n",
      " extracting: extracted_dir/dir6/file 4.html  \n",
      " extracting: extracted_dir/dir6/file 5.html  \n",
      " extracting: extracted_dir/dir6/file 9.html  \n",
      " extracting: extracted_dir/dir1/file 6.html  \n",
      " extracting: extracted_dir/dir1/file 7.html  \n",
      " extracting: extracted_dir/dir1/file 1.html  \n",
      " extracting: extracted_dir/dir1/file 2.html  \n",
      " extracting: extracted_dir/dir1/file 3.html  \n",
      " extracting: extracted_dir/dir1/file 8.html  \n",
      " extracting: extracted_dir/dir1/file 4.html  \n",
      " extracting: extracted_dir/dir1/file 5.html  \n",
      " extracting: extracted_dir/dir1/file 9.html  \n",
      " extracting: extracted_dir/dir8/file 6.html  \n",
      " extracting: extracted_dir/dir8/file 7.html  \n",
      " extracting: extracted_dir/dir8/file 1.html  \n",
      " extracting: extracted_dir/dir8/file 2.html  \n",
      " extracting: extracted_dir/dir8/file 3.html  \n",
      " extracting: extracted_dir/dir8/file 8.html  \n",
      " extracting: extracted_dir/dir8/file 4.html  \n",
      " extracting: extracted_dir/dir8/file 5.html  \n",
      " extracting: extracted_dir/dir8/file 9.html  \n",
      " extracting: extracted_dir/dir9/file 6.html  \n",
      " extracting: extracted_dir/dir9/file 7.html  \n",
      " extracting: extracted_dir/dir9/file 1.html  \n",
      " extracting: extracted_dir/dir9/file 2.html  \n",
      " extracting: extracted_dir/dir9/file 3.html  \n",
      " extracting: extracted_dir/dir9/file 8.html  \n",
      " extracting: extracted_dir/dir9/file 4.html  \n",
      " extracting: extracted_dir/dir9/file 5.html  \n",
      " extracting: extracted_dir/dir9/file 9.html  \n",
      " extracting: extracted_dir/dir7/file 6.html  \n",
      " extracting: extracted_dir/dir7/file 7.html  \n",
      " extracting: extracted_dir/dir7/file 1.html  \n",
      " extracting: extracted_dir/dir7/file 2.html  \n",
      " extracting: extracted_dir/dir7/file 3.html  \n",
      " extracting: extracted_dir/dir7/file 8.html  \n",
      " extracting: extracted_dir/dir7/file 4.html  \n",
      " extracting: extracted_dir/dir7/file 5.html  \n",
      " extracting: extracted_dir/dir7/file 9.html  \n",
      "dir1\t\tdir4\t\tdir7\t\textracted_dir\n",
      "dir2\t\tdir5\t\tdir8\t\tfiles.zip\n",
      "dir3\t\tdir6\t\tdir9\n"
     ]
    }
   ],
   "source": [
    "unzip files.zip -d extracted_dir\n",
    "ls"
   ]
  },
  {
   "cell_type": "code",
   "execution_count": 117,
   "id": "3df446ff-c084-4402-ac3f-861e3c61285a",
   "metadata": {},
   "outputs": [
    {
     "name": "stdout",
     "output_type": "stream",
     "text": [
      "dir1\tdir2\tdir3\tdir4\tdir5\tdir6\tdir7\tdir8\tdir9\n"
     ]
    }
   ],
   "source": [
    "cd extracted_dir\n",
    "ls"
   ]
  },
  {
   "cell_type": "markdown",
   "id": "3f2a8991-d5d8-4947-be54-1ad906e2646e",
   "metadata": {},
   "source": [
    "(Advanced) Write a command or script to recursively find the most recently modified file in a directory. More generally, can you list all files by recency?"
   ]
  },
  {
   "cell_type": "code",
   "execution_count": 120,
   "id": "6faf2773-7c27-4645-b1bb-51c7654cae3f",
   "metadata": {},
   "outputs": [
    {
     "name": "stdout",
     "output_type": "stream",
     "text": [
      "/tmp/terminal_course\n",
      "-rw-r--r--  1 omer  wheel    13K 24 Dez 19:33 ./files.zip\n"
     ]
    }
   ],
   "source": [
    "cd /tmp/terminal_course\n",
    "pwd\n",
    "find . -type f -exec ls -lht {} + | head -n1"
   ]
  },
  {
   "cell_type": "code",
   "execution_count": 125,
   "id": "c9a919c9-772f-4bab-a126-8ba7041e2001",
   "metadata": {},
   "outputs": [],
   "source": [
    "cd /tmp\n",
    "rm -rf terminal_course"
   ]
  }
 ],
 "metadata": {
  "kernelspec": {
   "display_name": "Bash",
   "language": "bash",
   "name": "bash"
  },
  "language_info": {
   "codemirror_mode": "shell",
   "file_extension": ".sh",
   "mimetype": "text/x-sh",
   "name": "bash"
  }
 },
 "nbformat": 4,
 "nbformat_minor": 5
}
