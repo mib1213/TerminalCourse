{
 "cells": [
  {
   "cell_type": "markdown",
   "id": "54e6fe20-6694-461f-bcf6-1b69eeeff5d0",
   "metadata": {},
   "source": [
    "6. Check out the program `dir_tree_gen`.\n",
    "   1. Make sure it is in the same directory as `data`. Then, execute it (how?). What does it do?\n",
    "   2. After having finished i.:\n",
    "       - How many directories does `topdir` contain? \n",
    "       - How many `txt` files does `topdir` contain?\n",
    "       - Which of these `txt` files contain the string `love` most often?\n",
    "   3. After having finished ii.:\n",
    "       - Move all `txt` files below `topdir` into `topdir` with a one-line command.\n",
    "       - Rename all `txt` files in `topdir`now in such a way, that the file count is put between the filename and the extension, separated by `_`. Use zeros as padding, i.e., if there are a 3-digit number of files, the file counts should also be 3-digit. E.g.: `4b17d6.txt` becomes `4b17d6_023.txt`. \n",
    "       - Put today's date in the form `YYYYMMDD` at the beginning of each filename, separated by an underscore `_` from the original filename. E.g.: `4b17d6_020.txt` becomes `20240925_4b17d6_020.txt`. *Hint*: `for` loop\n",
    "       - How can you concatenate all `txt` files into one `txt` file named `concat_shakespeare.txt`? Is it the same as `data/shakespeare.txt`?"
   ]
  },
  {
   "cell_type": "code",
   "execution_count": 200,
   "id": "089346de-9bef-46c4-88ae-b6b1851bff5a",
   "metadata": {},
   "outputs": [],
   "source": [
    "cd /tmp\n",
    "rm -rf terminal_course"
   ]
  },
  {
   "cell_type": "code",
   "execution_count": 201,
   "id": "883ba286-60af-40fc-bd0b-566e89f18354",
   "metadata": {},
   "outputs": [],
   "source": [
    "mkdir terminal_course\n",
    "cd terminal_course\n",
    "ls"
   ]
  },
  {
   "cell_type": "code",
   "execution_count": 202,
   "id": "93a35ca6-652b-4c42-908a-8c902eef03cf",
   "metadata": {},
   "outputs": [
    {
     "name": "stdout",
     "output_type": "stream",
     "text": [
      "data\t\tdir_tree_gen\n"
     ]
    }
   ],
   "source": [
    "cp -r '/Users/omer/Programming/terminal_course/data' .\n",
    "cp '/Users/omer/Programming/terminal_course/dir_tree_gen' .\n",
    "ls"
   ]
  },
  {
   "cell_type": "code",
   "execution_count": 203,
   "id": "ba4c0133-70e3-44fc-9ea2-1d1a451b54de",
   "metadata": {},
   "outputs": [
    {
     "name": "stdout",
     "output_type": "stream",
     "text": [
      "total 8\n",
      "drwxr-xr-x@ 3 omer  wheel    96B 24 Dez 03:13 data\n",
      "-rw-r--r--  1 omer  wheel   842B 24 Dez 03:13 dir_tree_gen\n"
     ]
    }
   ],
   "source": [
    "ls -lh"
   ]
  },
  {
   "cell_type": "code",
   "execution_count": 204,
   "id": "82a92253-c249-433c-800d-66a65a56a9b0",
   "metadata": {},
   "outputs": [
    {
     "name": "stdout",
     "output_type": "stream",
     "text": [
      "data\t\tdir_tree_gen\ttopdir\n"
     ]
    }
   ],
   "source": [
    "python3 dir_tree_gen\n",
    "ls"
   ]
  },
  {
   "cell_type": "code",
   "execution_count": 205,
   "id": "e783714f-af36-4f01-9526-94de2ddcc972",
   "metadata": {},
   "outputs": [],
   "source": [
    "cd topdir"
   ]
  },
  {
   "cell_type": "markdown",
   "id": "9d735994-6526-4836-9e36-6081a02a82ea",
   "metadata": {},
   "source": [
    "       - How many directories does `topdir` contain? "
   ]
  },
  {
   "cell_type": "code",
   "execution_count": 206,
   "id": "576576e0-2d67-4765-a549-0676d2ce4ad9",
   "metadata": {},
   "outputs": [
    {
     "name": "stdout",
     "output_type": "stream",
     "text": [
      "    3907\n"
     ]
    }
   ],
   "source": [
    "find . -type d | wc -l"
   ]
  },
  {
   "cell_type": "markdown",
   "id": "fe9a321c-177d-4b0e-b802-1cca5dcbc7e8",
   "metadata": {},
   "source": [
    "       - How many `txt` files does `topdir` contain?"
   ]
  },
  {
   "cell_type": "code",
   "execution_count": 207,
   "id": "90f56662-1462-4e56-9477-30b4d9c4edd4",
   "metadata": {},
   "outputs": [
    {
     "name": "stdout",
     "output_type": "stream",
     "text": [
      "    7812\n"
     ]
    }
   ],
   "source": [
    "find . -type f -name '*.txt' | wc -l"
   ]
  },
  {
   "cell_type": "markdown",
   "id": "bd5656de-d4d7-40e6-a820-3523d54ea183",
   "metadata": {},
   "source": [
    "       - How many text files contain the word \"love\"?"
   ]
  },
  {
   "cell_type": "code",
   "execution_count": 208,
   "id": "3c92d52c-54c8-48e6-a391-16fbe84cfb26",
   "metadata": {},
   "outputs": [
    {
     "name": "stdout",
     "output_type": "stream",
     "text": [
      "    1278\n"
     ]
    }
   ],
   "source": [
    "find . -type f -name '*.txt' | xargs cat | grep -o 'love' | wc -l"
   ]
  },
  {
   "cell_type": "markdown",
   "id": "e246d723-1e76-4e84-aa98-d94f9f6188fe",
   "metadata": {},
   "source": [
    "        - the file names which contain the word love but also show the word"
   ]
  },
  {
   "cell_type": "code",
   "execution_count": 209,
   "id": "b7cf1f66-8c5d-4101-b430-a7243233060d",
   "metadata": {},
   "outputs": [
    {
     "name": "stdout",
     "output_type": "stream",
     "text": [
      "./197872/a61eb8/0c889e/4e0b3e/0530f7/41ba34/f1e6cb.txt:love\n",
      "./197872/a61eb8/0c889e/4e0b3e/cc9b43/17a3e0/725826.txt:love\n",
      "./197872/a61eb8/0c889e/4e0b3e/cc9b43/f0e809.txt:love\n",
      "./197872/a61eb8/0c889e/4e0b3e/cc9b43/926b9e/c0eac4.txt:love\n",
      "./197872/a61eb8/0c889e/4e0b3e/cc9b43/f70aae/853ee6.txt:love\n",
      "./197872/a61eb8/0c889e/8b88af/835136.txt:love\n",
      "./197872/a61eb8/0c889e/8b88af/ad4d6a/bad89c/4d102d.txt:love\n",
      "./197872/a61eb8/0c889e/8b88af/c33711/5ae73c.txt:love\n",
      "./197872/a61eb8/0c889e/8b88af/c33711/5ae73c.txt:love\n",
      "./197872/a61eb8/0c889e/8b88af/c33711/0480f9/c1419d.txt:love\n"
     ]
    }
   ],
   "source": [
    "grep -o -r \"love\" . | head"
   ]
  },
  {
   "cell_type": "markdown",
   "id": "d0a75f68-1012-43f0-9733-567874e84ad6",
   "metadata": {},
   "source": [
    "       - the file names which contain the word \"love\" without showing the word"
   ]
  },
  {
   "cell_type": "code",
   "execution_count": 210,
   "id": "c1d56594-b6bc-4ede-b919-0b1659b0917f",
   "metadata": {},
   "outputs": [
    {
     "name": "stdout",
     "output_type": "stream",
     "text": [
      "./197872/a61eb8/0c889e/4e0b3e/0530f7/41ba34/f1e6cb.txt\n",
      "./197872/a61eb8/0c889e/4e0b3e/cc9b43/17a3e0/725826.txt\n",
      "./197872/a61eb8/0c889e/4e0b3e/cc9b43/f0e809.txt\n",
      "./197872/a61eb8/0c889e/4e0b3e/cc9b43/926b9e/c0eac4.txt\n",
      "./197872/a61eb8/0c889e/4e0b3e/cc9b43/f70aae/853ee6.txt\n",
      "./197872/a61eb8/0c889e/8b88af/835136.txt\n",
      "./197872/a61eb8/0c889e/8b88af/ad4d6a/bad89c/4d102d.txt\n",
      "./197872/a61eb8/0c889e/8b88af/c33711/5ae73c.txt\n",
      "./197872/a61eb8/0c889e/8b88af/c33711/0480f9/c1419d.txt\n",
      "./197872/a61eb8/0c889e/8b88af/c33711/7e77ed/31521f.txt\n"
     ]
    }
   ],
   "source": [
    "grep -o -rl \"love\" . | head"
   ]
  },
  {
   "cell_type": "markdown",
   "id": "eec03af4-5deb-4438-a2a2-839c74d33995",
   "metadata": {},
   "source": [
    "       - Which of these `txt` files contain the string `love` most often?"
   ]
  },
  {
   "cell_type": "code",
   "execution_count": 211,
   "id": "3eb09bf8-008b-4ee8-bd9c-ec2e874758ad",
   "metadata": {},
   "outputs": [
    {
     "name": "stdout",
     "output_type": "stream",
     "text": [
      "3\n",
      "./197872/a61eb8/4602bf/d25f9d/433c41/50bbea/af995b.txt\n"
     ]
    }
   ],
   "source": [
    "max_count=0;\n",
    "max_file=\"\";\n",
    "for file in $(grep -o -rl \"love\" .); do \n",
    "    count=$(grep -o \"love\" $file | wc -l);\n",
    "    if (( count > max_count )); then\n",
    "        max_count=$count;\n",
    "        max_file=$file;\n",
    "    fi;\n",
    "done;\n",
    "echo $max_count\n",
    "echo $max_file"
   ]
  },
  {
   "cell_type": "code",
   "execution_count": 212,
   "id": "421de465-b69c-4243-a9f2-5a614562fc6b",
   "metadata": {},
   "outputs": [
    {
     "name": "stdout",
     "output_type": "stream",
     "text": [
      "/tmp/terminal_course/topdir\n"
     ]
    }
   ],
   "source": [
    "pwd"
   ]
  },
  {
   "cell_type": "markdown",
   "id": "caed509c-7792-47a2-b6bb-71a29404ce4c",
   "metadata": {},
   "source": [
    "       - Move all `txt` files below `topdir` into `topdir` with a one-line command."
   ]
  },
  {
   "cell_type": "code",
   "execution_count": 213,
   "id": "d053abd1-613a-4958-a3d7-83030261fb73",
   "metadata": {},
   "outputs": [
    {
     "name": "stdout",
     "output_type": "stream",
     "text": [
      "    7812\n"
     ]
    }
   ],
   "source": [
    "find . -type f -name \"*.txt\" -exec mv {} . \\;\n",
    "ls | wc -l"
   ]
  },
  {
   "cell_type": "markdown",
   "id": "fb392f82-f8bc-40fb-9e5f-2e431c1d290d",
   "metadata": {},
   "source": [
    "       - Rename all `txt` files in `topdir`now in such a way, that the file count is put between the filename and the extension, separated by `_`. Use zeros as padding, i.e., if there are a 3-digit number of files, the file counts should also be 3-digit. E.g.: `4b17d6.txt` becomes `4b17d6_023.txt`."
   ]
  },
  {
   "cell_type": "code",
   "execution_count": 214,
   "id": "18b01db6-74a2-478d-8b79-b993cc711bca",
   "metadata": {},
   "outputs": [
    {
     "name": "stdout",
     "output_type": "stream",
     "text": [
      "0009a1.txt\n",
      "00101d.txt\n",
      "0017c4.txt\n",
      "001954.txt\n",
      "001acf.txt\n",
      "00320b.txt\n",
      "00380a.txt\n",
      "003de0.txt\n",
      "00479f.txt\n",
      "004c5b.txt\n"
     ]
    }
   ],
   "source": [
    "ls | head"
   ]
  },
  {
   "cell_type": "code",
   "execution_count": 215,
   "id": "d45cc751-47d3-48a3-b022-1c8468d20592",
   "metadata": {},
   "outputs": [
    {
     "name": "stdout",
     "output_type": "stream",
     "text": [
      "0009a1_0000.txt\n",
      "00101d_0001.txt\n",
      "0017c4_0002.txt\n",
      "001954_0003.txt\n",
      "001acf_0004.txt\n",
      "00320b_0005.txt\n",
      "00380a_0006.txt\n",
      "003de0_0007.txt\n",
      "00479f_0008.txt\n",
      "004c5b_0009.txt\n"
     ]
    }
   ],
   "source": [
    "counter=0; \n",
    "for file in *.txt; do \n",
    "    printf -v padding \"%04d\" $counter; \n",
    "    mv $file \"${file/.txt/_${padding}.txt}\"; \n",
    "    counter=$((counter + 1));\n",
    "done;\n",
    "ls | head"
   ]
  },
  {
   "cell_type": "code",
   "execution_count": 216,
   "id": "5e9861a2-db19-492a-806e-2d0b616bf848",
   "metadata": {},
   "outputs": [
    {
     "name": "stdout",
     "output_type": "stream",
     "text": [
      "ffa2eb_7801.txt\n",
      "ffaac4_7802.txt\n",
      "ffafa8_7803.txt\n",
      "ffb351_7804.txt\n",
      "ffb5d3_7805.txt\n",
      "ffc0cf_7806.txt\n",
      "ffcb11_7807.txt\n",
      "ffcece_7808.txt\n",
      "ffdf12_7809.txt\n",
      "ffe03f_7810.txt\n"
     ]
    }
   ],
   "source": [
    "ls | tail"
   ]
  },
  {
   "cell_type": "markdown",
   "id": "59433931-dfae-45ce-bd36-b4eec26cffbd",
   "metadata": {},
   "source": [
    "       - Put today's date in the form `YYYYMMDD` at the beginning of each filename, separated by an underscore `_` from the original filename. E.g.: `4b17d6_020.txt` becomes `20240925_4b17d6_020.txt`. *Hint*: `for` loop"
   ]
  },
  {
   "cell_type": "code",
   "execution_count": 217,
   "id": "723c682d-179c-4c27-90d0-c7a9dc5b96b2",
   "metadata": {},
   "outputs": [
    {
     "name": "stdout",
     "output_type": "stream",
     "text": [
      "20241224\n"
     ]
    }
   ],
   "source": [
    "date=$(date \"+%Y%m%d\")\n",
    "echo $date"
   ]
  },
  {
   "cell_type": "code",
   "execution_count": 218,
   "id": "163236ad-5074-40dc-8f8c-493db0a52d23",
   "metadata": {},
   "outputs": [
    {
     "name": "stdout",
     "output_type": "stream",
     "text": [
      "197872\n",
      "20241224_0009a1_0000.txt\n",
      "20241224_00101d_0001.txt\n",
      "20241224_0017c4_0002.txt\n",
      "20241224_001954_0003.txt\n",
      "20241224_001acf_0004.txt\n",
      "20241224_00320b_0005.txt\n",
      "20241224_00380a_0006.txt\n",
      "20241224_003de0_0007.txt\n",
      "20241224_00479f_0008.txt\n"
     ]
    }
   ],
   "source": [
    "for file in *.txt; do mv $file \"${date}_${file}\"; done;\n",
    "ls | head"
   ]
  },
  {
   "cell_type": "markdown",
   "id": "91bbbf6b-d37d-402e-bf5a-7e33a7939051",
   "metadata": {},
   "source": [
    "       - How can you concatenate all `txt` files into one `txt` file named `concat_shakespeare.txt`? Is it the same as `data/shakespeare.txt`?"
   ]
  },
  {
   "cell_type": "code",
   "execution_count": 219,
   "id": "3365dc9b-2c02-438e-b3b9-ebdf3e258ac5",
   "metadata": {},
   "outputs": [
    {
     "name": "stdout",
     "output_type": "stream",
     "text": [
      "And patience tame to sufferance bide each check,\n",
      "Without accusing you of injury.  \n",
      "For since each hand hath put on nature's power,  \n",
      "Fairing the foul with art's false borrowed face,\n",
      "Points on me graciously with fair aspect,\n",
      "And puts apparel on my tattered loving,\n",
      "Will sourly leave her till he have prevailed?\n",
      "Ay me, but yet thou mightst my seat forbear,\n",
      "And lace it self with his society?  \n",
      "Why should false painting imitate his cheek,\n"
     ]
    }
   ],
   "source": [
    "for file in *.txt; do cat $file >> concat_shakespeare.txt; done;\n",
    "cat concat_shakespeare.txt | head"
   ]
  },
  {
   "cell_type": "code",
   "execution_count": 220,
   "id": "ffcc6c28-1d94-4496-8512-8a68c42d83d7",
   "metadata": {},
   "outputs": [
    {
     "name": "stdout",
     "output_type": "stream",
     "text": [
      "THE SONNETS\n",
      "\n",
      "by William Shakespeare\n",
      "\n",
      "From fairest creatures we desire increase,\n",
      "That thereby beauty's rose might never die,\n",
      "But as the riper should by time decease,\n",
      "His tender heir might bear his memory:\n",
      "But thou contracted to thine own bright eyes,\n",
      "Feed'st thy light's flame with self-substantial fuel,\n"
     ]
    }
   ],
   "source": [
    "cat /tmp/terminal_course/data/shakespeare.txt | head"
   ]
  },
  {
   "cell_type": "code",
   "execution_count": 222,
   "id": "f907f528-a581-4f13-a657-39176cb4ab68",
   "metadata": {},
   "outputs": [
    {
     "name": "stdout",
     "output_type": "stream",
     "text": [
      "   14806\n"
     ]
    }
   ],
   "source": [
    "cat concat_shakespeare.txt | wc -l"
   ]
  },
  {
   "cell_type": "code",
   "execution_count": 223,
   "id": "08015a3a-f522-4bdc-9414-4b2adde0be11",
   "metadata": {},
   "outputs": [
    {
     "name": "stdout",
     "output_type": "stream",
     "text": [
      "    2468\n"
     ]
    }
   ],
   "source": [
    "cat /tmp/terminal_course/data/shakespeare.txt | wc -l"
   ]
  },
  {
   "cell_type": "markdown",
   "id": "e08c89f5-b414-4e7b-ac6e-7635db52273a",
   "metadata": {},
   "source": [
    "No they are NOT the same since one file contains 14806 line and the other contains only 2468 lines and the Headers are also different."
   ]
  },
  {
   "cell_type": "code",
   "execution_count": 224,
   "id": "1567b92d-c666-44a7-9dc0-eb8464257624",
   "metadata": {},
   "outputs": [],
   "source": [
    "rm -rf /tmp/terminal_course"
   ]
  }
 ],
 "metadata": {
  "kernelspec": {
   "display_name": "Bash",
   "language": "bash",
   "name": "bash"
  },
  "language_info": {
   "codemirror_mode": "shell",
   "file_extension": ".sh",
   "mimetype": "text/x-sh",
   "name": "bash"
  }
 },
 "nbformat": 4,
 "nbformat_minor": 5
}
