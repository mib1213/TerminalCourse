{
 "cells": [
  {
   "cell_type": "markdown",
   "id": "c55d8efa-649b-44c0-989e-71e7bab2ed7a",
   "metadata": {},
   "source": [
    "7. Download the works of Shakespeare again (see Session 01). \n",
    "   1. Encrpyt it using `gpg`. Choose the symmetric algorithm AES256. \n",
    "   2. Now, examine the encrypted file with `file`. Open it with the terminal. First try `less`, then try `xxd`. \n",
    "   3. Count the occurence of the 16 hex digits, and compute their relative frequency. *Hint*: Use `xxd`, `fold`, `sort`, `uniq`\n",
    "   4. Run a hypothesis test whether these 16 hex digits are distributed uniformly.\n",
    "   5. Do the same with the unencrypted text file."
   ]
  },
  {
   "cell_type": "code",
   "execution_count": 61,
   "id": "b3bed18c-d16c-4b62-8ebc-6932e2e09c46",
   "metadata": {},
   "outputs": [],
   "source": [
    "cd /tmp\n",
    "rm -rf terminal_course\n",
    "mkdir terminal_course\n",
    "cd terminal_course\n",
    "ls"
   ]
  },
  {
   "cell_type": "markdown",
   "id": "12ebec9f-3177-4f37-87d3-ac08e1077d7e",
   "metadata": {},
   "source": [
    "7. Download the works of Shakespeare again (see Session 01). "
   ]
  },
  {
   "cell_type": "code",
   "execution_count": 62,
   "id": "4236f905-244a-49fa-b187-968e60a688a5",
   "metadata": {},
   "outputs": [
    {
     "name": "stdout",
     "output_type": "stream",
     "text": [
      "THE SONNETS\n",
      "\n",
      "by William Shakespeare\n",
      "\n",
      "From fairest creatures we desire increase,\n",
      "That thereby beauty's rose might never die,\n",
      "But as the riper should by time decease,\n",
      "His tender heir might bear his memory:\n",
      "But thou contracted to thine own bright eyes,\n",
      "Feed'st thy light's flame with self-substantial fuel,\n"
     ]
    }
   ],
   "source": [
    "cp -r '/Users/omer/Programming/terminal_course/data' .\n",
    "cat data/shakespeare.txt | head"
   ]
  },
  {
   "cell_type": "markdown",
   "id": "344701ec-d210-43e5-9ed7-b4f57050e273",
   "metadata": {},
   "source": [
    "   1. Encrpyt it using `gpg`. Choose the symmetric algorithm AES256. "
   ]
  },
  {
   "cell_type": "markdown",
   "id": "44d98c81-0aac-49e0-8af6-99d8f9115002",
   "metadata": {},
   "source": [
    "```bash\n",
    "gpg --symmetric --cipher-algo AES256 -o shakespeare_encrypted.txt.gpg data/shakespeare.txt\n",
    "```"
   ]
  },
  {
   "cell_type": "code",
   "execution_count": 64,
   "id": "cfeedfc1-fcba-4524-ba37-ac868ce4302d",
   "metadata": {},
   "outputs": [
    {
     "name": "stdout",
     "output_type": "stream",
     "text": [
      "data\t\t\t\tshakespeare_encrypted.txt.gpg\n"
     ]
    }
   ],
   "source": [
    "ls"
   ]
  },
  {
   "cell_type": "markdown",
   "id": "a84c7d61-2f6c-407e-ae56-2e7147f4fd56",
   "metadata": {},
   "source": [
    "   2. Now, examine the encrypted file with `file`. Open it with the terminal. First try `less`, then try `xxd`. "
   ]
  },
  {
   "cell_type": "code",
   "execution_count": 65,
   "id": "5255a5f3-a35a-4ff3-91d6-e9bffe01589e",
   "metadata": {},
   "outputs": [
    {
     "name": "stdout",
     "output_type": "stream",
     "text": [
      "shakespeare_encrypted.txt.gpg: PGP symmetric key encrypted data - AES with 256-bit key salted & iterated - SHA256 .\n"
     ]
    }
   ],
   "source": [
    "file shakespeare_encrypted.txt.gpg"
   ]
  },
  {
   "cell_type": "code",
   "execution_count": 66,
   "id": "b41f8f9b-b55e-4b91-bb90-8765f160e84b",
   "metadata": {},
   "outputs": [
    {
     "name": "stdout",
     "output_type": "stream",
     "text": [
      "00000000: 8c0d 0409 0308 01e9 3e04 41dd fe9a fed2  ........>.A.....\n",
      "00000010: ea01 09cf 81bd 438e 220e 7d15 2af2 cb87  ......C.\".}.*...\n",
      "00000020: d907 5dda b9ff fce0 0c60 33ef ecec f85d  ..]......`3....]\n",
      "00000030: 75a1 5743 bd95 79a4 693f 2cc6 8edd 8197  u.WC..y.i?,.....\n",
      "00000040: 8b55 da50 e877 79d0 0922 7514 cd2e d9db  .U.P.wy..\"u.....\n",
      "00000050: f54f ae98 cb73 fcba 2557 2d36 7d28 1e74  .O...s..%W-6}(.t\n",
      "00000060: 69e8 d484 bb7d 60a1 7410 8ba0 45ca 3716  i....}`.t...E.7.\n",
      "00000070: c58d e429 d11b d120 ae3f 9279 f9f9 425a  ...)... .?.y..BZ\n",
      "00000080: 25fa a7b2 ee29 8d43 6b4f 872f d029 9df5  %....).CkO./.)..\n",
      "00000090: 0fb5 606c 0e6d 0439 f0de 77ac e2bf 897f  ..`l.m.9..w.....\n"
     ]
    }
   ],
   "source": [
    "xxd shakespeare_encrypted.txt.gpg | head"
   ]
  },
  {
   "cell_type": "markdown",
   "id": "6d2d3746-029b-4a2a-b124-321f7b40bd48",
   "metadata": {},
   "source": [
    "   3. Count the occurence of the 16 hex digits, and compute their relative frequency. *Hint*: Use `xxd`, `fold`, `sort`, `uniq`"
   ]
  },
  {
   "cell_type": "code",
   "execution_count": 67,
   "id": "72ed5bc6-60f9-4bb8-8a67-44470b21a9e0",
   "metadata": {},
   "outputs": [
    {
     "name": "stdout",
     "output_type": "stream",
     "text": [
      "5168 5\n",
      "5168 3\n",
      "5160 9\n",
      "5120 c\n",
      "5118 d\n",
      "5116 7\n",
      "5111 6\n",
      "5103 a\n",
      "5096 1\n",
      "5095 8\n",
      "5083 e\n",
      "5074 b\n",
      "5040 2\n",
      "5038 f\n",
      "5014 4\n",
      "4958 0\n"
     ]
    }
   ],
   "source": [
    "xxd -p shakespeare_encrypted.txt.gpg | fold -w1 | sort | uniq -c | sort -r"
   ]
  },
  {
   "cell_type": "markdown",
   "id": "6e9d4b8f-e6d4-4fd8-b54e-0c85f0b582d5",
   "metadata": {},
   "source": [
    "   4. Run a hypothesis test whether these 16 hex digits are distributed uniformly."
   ]
  },
  {
   "cell_type": "markdown",
   "id": "12826c5c-e1d9-41b5-bada-892bb6b44e49",
   "metadata": {},
   "source": [
    "   5. Do the same with the unencrypted text file."
   ]
  },
  {
   "cell_type": "code",
   "execution_count": 68,
   "id": "bfcbea22-397c-442e-9c2c-7a1531406604",
   "metadata": {},
   "outputs": [
    {
     "name": "stdout",
     "output_type": "stream",
     "text": [
      "9222 e\n",
      "6754 t\n",
      "5579 o\n",
      "5003 h\n",
      "4847 s\n",
      "4574 a\n",
      "4445 n\n",
      "4234 i\n",
      "4166 r\n",
      "3035 l\n",
      "2724 d\n",
      "2299 u\n",
      "2005 m\n",
      "1952 y\n",
      "1880 ,\n",
      "1645 w\n",
      "15679  \n",
      "1556 f\n",
      "1342 g\n",
      "1311 c\n",
      "1086 b\n",
      " 987 p\n",
      " 924 v\n",
      " 547 k\n",
      " 462 T\n",
      " 443 I\n",
      " 396 .\n",
      " 386 '\n",
      " 367 A\n",
      " 292 \n",
      " 253 W\n",
      " 160 :\n",
      " 144 S\n",
      " 144 B\n",
      " 128 O\n",
      " 107 F\n",
      "  92 ?\n",
      "  90 M\n",
      "  83 -\n",
      "  76 N\n",
      "  67 H\n",
      "  66 j\n",
      "  60 x\n",
      "  58 L\n",
      "  51 q\n",
      "  43 )\n",
      "  43 (\n",
      "  39 D\n",
      "  34 Y\n",
      "  31 C\n",
      "  31 ;\n",
      "  27 E\n",
      "  24 P\n",
      "  23 !\n",
      "  21 U\n",
      "  20 z\n",
      "  17 R\n",
      "  16 G\n",
      "   6 K\n",
      "   2 J\n",
      "   1 V\n"
     ]
    }
   ],
   "source": [
    "cat data/shakespeare.txt | fold -w1 | sort | uniq -c | sort -r"
   ]
  },
  {
   "cell_type": "markdown",
   "id": "7e505baa-17f6-457c-a238-c4dcf5151742",
   "metadata": {},
   "source": [
    "8. Do exercise 7, but this time with public key cryptography.\n",
    "   1. Generate an RSA key pair (4096 bits). \n",
    "   2. Use the public key to encrypt the file `shakespeare.txt`. \n",
    "   3. Run the same statistical analysis as above. "
   ]
  },
  {
   "cell_type": "markdown",
   "id": "7aad551d-e3a1-4e36-9bd7-e15a3e3df568",
   "metadata": {},
   "source": [
    "```bash\n",
    "gpg --full-generate-key\n",
    "```"
   ]
  },
  {
   "cell_type": "code",
   "execution_count": 69,
   "id": "cbe1d64d-97fa-4ab1-8ce5-9575b728ceb3",
   "metadata": {},
   "outputs": [
    {
     "name": "stdout",
     "output_type": "stream",
     "text": [
      "[keyboxd]\n",
      "---------\n",
      "pub   rsa1024 2024-12-24 [SC] [verfällt: 2025-03-24]\n",
      "      011A19E33A80F4E26BBC046863B29C7F6D254953\n",
      "uid        [ ultimativ ] Omer Baig (RSA Key Macbook) <mirzaomer@outlook.de>\n",
      "sub   rsa1024 2024-12-24 [E] [verfällt: 2025-03-24]\n",
      "\n"
     ]
    }
   ],
   "source": [
    "gpg --list-keys"
   ]
  },
  {
   "cell_type": "code",
   "execution_count": 70,
   "id": "f1232045-7ecb-4f15-9281-e03d76546a4c",
   "metadata": {},
   "outputs": [],
   "source": [
    "gpg --armor --export mirzaomer@outlook.de > ./mirzaomer@outlook.de.asc"
   ]
  },
  {
   "cell_type": "code",
   "execution_count": 71,
   "id": "6452bc2f-14bb-452b-9d82-e57fac5b2e96",
   "metadata": {},
   "outputs": [
    {
     "name": "stdout",
     "output_type": "stream",
     "text": [
      "gpg: Schlüssel 63B29C7F6D254953: \"Omer Baig (RSA Key Macbook) <mirzaomer@outlook.de>\" nicht geändert\n",
      "gpg: Anzahl insgesamt bearbeiteter Schlüssel: 1\n",
      "gpg:                             unverändert: 1\n"
     ]
    }
   ],
   "source": [
    "gpg --import mirzaomer@outlook.de.asc"
   ]
  },
  {
   "cell_type": "code",
   "execution_count": 72,
   "id": "d7cbbc61-596d-40db-8a46-485250a1ae35",
   "metadata": {},
   "outputs": [
    {
     "name": "stdout",
     "output_type": "stream",
     "text": [
      "��\u0003�� ���[#\u0001\u0004\u0000��6M�(R���<l���!��*���R�q\"\u0018ΕU\n",
      "\u0006ˠ�D��\f\n",
      "x����\u000f\u0005\u001d\n",
      "�gL���}6G��X~��(6N \n",
      "��?�0��v��M\u0004\u0002>\u000e\u0017�qX564�����T��l���S�T)���Rã��P²�D�D�������\u0019�+��W\u0016�\u0004��Oq�bQf\u001a�\u00072=��\u001bG�o�˨Y1eR�C7'M�}H�����\u0014\u001c\n",
      "�c���A<���\u000e\u0012W��\u001b\u0007B��Ʈ|��W��n!��~|��$l�#�@���]?��V���l��+;�L���2�-^�W��q�`\\�V�f���W�͘X�J\u0016��\u0018��\u0000�'l�E�s!�\\=O�G�G���͇\u0018����e% ?� �S`1��r0�p�ŴԶ)����>��Dy+�CwVr���\u000e��a��jRCh���7\u001b\u0017�\f\n",
      "�lH�u��N��>&\u0010�2�q�_R�}o�\u000e\f\n",
      "e��\u001a�����f�P:�cV�m�F\t�\t�'\u000e\u0000��\u0000-v�5�s�n\u000fb�\u001f�j��'����\"� \u0005��q���\u001d\n",
      "�c���\\%d�\u000e�L'�\u0015�\u001e\n",
      ">(��\n",
      "\u001e\n",
      "+P\t��)P���ER���}}�|q�8J�O���\u0001\u0014U\u0018'�)~@Ch��<F�����_~4�\u0018��~����p\"�-n���I�C�SM�1\f\n",
      "�e��ӫ6��\u001a�\u0019�2A\f\n",
      "�*{��٫G:nqߦ{?�>�,�\u0010\\\u0003�z�9d��:v\u001c\n",
      "ZI���\u0010Zp+\u001c\n",
      "�-�'a�\u0000w\\k�f��A6\t�O���\u001c\n",
      "^%�Y֥��hs\u0000\u000b\n",
      "B�a��\u0010�@�;C���{P�L�w���\n",
      ",���E[���*x\n",
      "�\u0000\u0017�4��c'�#��\u0019\u0004��+��\u001c\n",
      "����\u0019,8\u0015�BVϳ\u001e\n",
      "�Զ��R-<�[Z���\u00151�y$R\u00030�\u001b%��bf��\f\n",
      "\u0002\u0016����☹��L�c��\u001aHu�۹H�x�jOﱭ�A��\u0017Hr���4�\u0002\u001e\n",
      "�0�w4o\u0010\tp_�1�U����u�\u0019tBU@�+����{��\u0012�s��\u0006h���uB���c�B�1���%\u000f�����\u0000�\u001f��Eb]�\u0019����s��Ǻ�\u0018�V�u�\u0001\u0017�\u000eY�3�cW>��\u0017\u0006a�=�0�\f\n",
      "Ue�:��\u001f|\f\n",
      "DU�Q e�3�G��\t�H.�V,�\u0010��\f\n",
      "�S����e��\u001e\n",
      "-��m�I� �Ib��_]��-�\u001d\n",
      "�d\f\n",
      "�N�� �`\u0002 T��D\u001b��<BNl�y�\u0000��\n",
      "���v��r'J -�P`k\u00007�Ajk@x�\u0010�n���\\׏��@\u001d\n",
      "��\u00141��ϩؗ}\u0011��14�opr��x�\u0002\f\n",
      "�\u0006��\u0005Y\u000b\n",
      "fO�!n>�Z\u0018�\u000f\u000b\n",
      "�#��8�\u0012��#�ΰ����AE�5Y��\n",
      "�Oo\u000f\u0000L\f\n",
      "��&\\��oQ�\f\n",
      "D��j_a�1d`a`�����оq� 3�\f\n",
      "ֶ�\u0013WU\u0005&\u0004ҋ\u000eA� ���\u0006\u001c\n",
      "\u0010.;�ݕw�nԗ�=]9��Eu�?B�~N���\"\u001e\n",
      "�JUY.��\u0015z\u0013�N�Z\t��s\u0005�#�d�\u0019��s���8���\u0010Ķ�\u0019\u001e\n",
      "(\u001e\n",
      "�61P\u0014ht{�e\u0010��C��N���\u0013��޵�%�\f\n",
      "|�Y!��ϖY2�'q��fA�!~��\u0019!�l�58C�W�}S��\u0004���\u0012Z��z���B\t��\u0014�'�\u0003�\u0013#�'e��v��z�\u000b\n",
      "8:���YL��y�Q��bBR�a����bYbD١\u0013e�_���x�\\w�d�\n",
      "\u0000h�`*\u001av�������ի�gSB�eHdY�xÄs\n",
      "�T�)�km��6&mQi#�2�(nΆ�lp>�^���kYt���`��ld�\u001f�����%�D�JN��H\u001e\n",
      "�]����\u0015[�[\u0006��gÅ�\u001d\n",
      "��j\\�7�EQH�@�h\n"
     ]
    }
   ],
   "source": [
    "gpg -e -r mirzaomer@outlook.de -o encrypted.txt.gpg data/shakespeare.txt\n",
    "cat encrypted.txt.gpg | head"
   ]
  },
  {
   "cell_type": "code",
   "execution_count": 73,
   "id": "c7e1567c-3369-44bf-9100-92c7ff8a72e6",
   "metadata": {},
   "outputs": [
    {
     "name": "stdout",
     "output_type": "stream",
     "text": [
      "4958 a\n",
      "4941 6\n",
      "4930 2\n",
      "4923 b\n",
      "4884 1\n",
      "4881 0\n",
      "4866 8\n",
      "4854 e\n",
      "4850 f\n",
      "4834 9\n",
      "4829 c\n",
      "4821 3\n",
      "4817 d\n",
      "4817 5\n",
      "4797 4\n",
      "4766 7\n"
     ]
    }
   ],
   "source": [
    "xxd -p encrypted.txt.gpg | fold -w1 | sort | uniq -c | sort -r"
   ]
  },
  {
   "cell_type": "markdown",
   "id": "37e75e4f-afec-4dc2-b229-ae131b4f7678",
   "metadata": {},
   "source": [
    "```bash\n",
    "gpg -d -o decrypted.txt encrypted.txt.gpg\n",
    "```"
   ]
  },
  {
   "cell_type": "code",
   "execution_count": 75,
   "id": "ec5848a8-1ff8-4a2d-a346-6cdfcd7bd703",
   "metadata": {},
   "outputs": [
    {
     "name": "stdout",
     "output_type": "stream",
     "text": [
      "THE SONNETS\n",
      "\n",
      "by William Shakespeare\n",
      "\n",
      "From fairest creatures we desire increase,\n",
      "That thereby beauty's rose might never die,\n",
      "But as the riper should by time decease,\n",
      "His tender heir might bear his memory:\n",
      "But thou contracted to thine own bright eyes,\n",
      "Feed'st thy light's flame with self-substantial fuel,\n"
     ]
    }
   ],
   "source": [
    "cat decrypted.txt | head"
   ]
  },
  {
   "cell_type": "code",
   "execution_count": 76,
   "id": "d7007e5e-9cc6-41a5-91d2-6c861611741b",
   "metadata": {},
   "outputs": [
    {
     "name": "stdout",
     "output_type": "stream",
     "text": [
      "9222 e\n",
      "6754 t\n",
      "5579 o\n",
      "5003 h\n",
      "4847 s\n",
      "4574 a\n",
      "4445 n\n",
      "4234 i\n",
      "4166 r\n",
      "3035 l\n",
      "2724 d\n",
      "2299 u\n",
      "2005 m\n",
      "1952 y\n",
      "1880 ,\n",
      "1645 w\n",
      "15679  \n",
      "1556 f\n",
      "1342 g\n",
      "1311 c\n",
      "1086 b\n",
      " 987 p\n",
      " 924 v\n",
      " 547 k\n",
      " 462 T\n",
      " 443 I\n",
      " 396 .\n",
      " 386 '\n",
      " 367 A\n",
      " 292 \n",
      " 253 W\n",
      " 160 :\n",
      " 144 S\n",
      " 144 B\n",
      " 128 O\n",
      " 107 F\n",
      "  92 ?\n",
      "  90 M\n",
      "  83 -\n",
      "  76 N\n",
      "  67 H\n",
      "  66 j\n",
      "  60 x\n",
      "  58 L\n",
      "  51 q\n",
      "  43 )\n",
      "  43 (\n",
      "  39 D\n",
      "  34 Y\n",
      "  31 C\n",
      "  31 ;\n",
      "  27 E\n",
      "  24 P\n",
      "  23 !\n",
      "  21 U\n",
      "  20 z\n",
      "  17 R\n",
      "  16 G\n",
      "   6 K\n",
      "   2 J\n",
      "   1 V\n"
     ]
    }
   ],
   "source": [
    "cat decrypted.txt | fold -w1 | sort | uniq | sort -r"
   ]
  },
  {
   "cell_type": "code",
   "execution_count": 77,
   "id": "510fe7d4-0b1e-40c4-a960-e61de3e582a9",
   "metadata": {},
   "outputs": [],
   "source": [
    "cd /tmp\n",
    "rm -rf terminal_course"
   ]
  }
 ],
 "metadata": {
  "kernelspec": {
   "display_name": "Bash",
   "language": "bash",
   "name": "bash"
  },
  "language_info": {
   "codemirror_mode": "shell",
   "file_extension": ".sh",
   "mimetype": "text/x-sh",
   "name": "bash"
  }
 },
 "nbformat": 4,
 "nbformat_minor": 5
}
