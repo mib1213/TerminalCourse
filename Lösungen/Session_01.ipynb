{
 "cells": [
  {
   "cell_type": "code",
   "execution_count": 1,
   "metadata": {},
   "outputs": [
    {
     "name": "stdout",
     "output_type": "stream",
     "text": [
      "hello world\n"
     ]
    }
   ],
   "source": [
    "echo \"hello world\""
   ]
  },
  {
   "cell_type": "code",
   "execution_count": 2,
   "metadata": {},
   "outputs": [],
   "source": [
    "rm -rf /tmp/terminal_course/"
   ]
  },
  {
   "cell_type": "markdown",
   "metadata": {},
   "source": [
    "1. Create a new directory called `terminal_course` under `/tmp`."
   ]
  },
  {
   "cell_type": "code",
   "execution_count": 3,
   "metadata": {},
   "outputs": [
    {
     "name": "stdout",
     "output_type": "stream",
     "text": [
      "chdir: Kann das aktuelle Verzeichnis nicht wiederfinden: getcwd: Kann auf die übergeordneten Verzeichnisse nicht zugreifen.: Undefined error: 0\n"
     ]
    }
   ],
   "source": [
    "cd /tmp\n",
    "mkdir terminal_course"
   ]
  },
  {
   "cell_type": "markdown",
   "metadata": {},
   "source": [
    "3. Use `touch` to create a new file called `wikipedia_head` and copy it to `/tmp/terminal_course`."
   ]
  },
  {
   "cell_type": "code",
   "execution_count": 4,
   "metadata": {},
   "outputs": [
    {
     "name": "stdout",
     "output_type": "stream",
     "text": [
      "wikipedia_head\n"
     ]
    }
   ],
   "source": [
    "touch wikipedia_head\n",
    "cp wikipedia_head /tmp/terminal_course\n",
    "ls /tmp/terminal_course/"
   ]
  },
  {
   "cell_type": "markdown",
   "metadata": {},
   "source": [
    "4. Delete the original file `wikipedia_head`. "
   ]
  },
  {
   "cell_type": "code",
   "execution_count": 5,
   "metadata": {},
   "outputs": [],
   "source": [
    "rm wikipedia_head"
   ]
  },
  {
   "cell_type": "markdown",
   "metadata": {},
   "source": [
    "5. Suppose a directory contains the two folders `src` and `dest`. Predict the outcome of the following two commands: `mv src dest` vs. `mv src dest/`"
   ]
  },
  {
   "cell_type": "code",
   "execution_count": 6,
   "metadata": {},
   "outputs": [
    {
     "name": "stdout",
     "output_type": "stream",
     "text": [
      "dest\tsrc\n"
     ]
    }
   ],
   "source": [
    "mkdir /tmp/terminal_course/temp\n",
    "cd /tmp/terminal_course/temp\n",
    "mkdir src dest\n",
    "ls"
   ]
  },
  {
   "cell_type": "code",
   "execution_count": 7,
   "metadata": {},
   "outputs": [
    {
     "name": "stdout",
     "output_type": "stream",
     "text": [
      "dest\n"
     ]
    }
   ],
   "source": [
    "mv src dest\n",
    "ls"
   ]
  },
  {
   "cell_type": "code",
   "execution_count": 8,
   "metadata": {},
   "outputs": [
    {
     "name": "stdout",
     "output_type": "stream",
     "text": [
      "src\n"
     ]
    }
   ],
   "source": [
    "ls dest "
   ]
  },
  {
   "cell_type": "code",
   "execution_count": 9,
   "metadata": {},
   "outputs": [],
   "source": [
    "rm -rf /tmp/terminal_course/temp"
   ]
  },
  {
   "cell_type": "code",
   "execution_count": 10,
   "metadata": {},
   "outputs": [
    {
     "name": "stdout",
     "output_type": "stream",
     "text": [
      "dest\tsrc\n"
     ]
    }
   ],
   "source": [
    "mkdir /tmp/terminal_course/temp\n",
    "cd /tmp/terminal_course/temp\n",
    "mkdir src dest\n",
    "ls"
   ]
  },
  {
   "cell_type": "code",
   "execution_count": 11,
   "metadata": {},
   "outputs": [
    {
     "name": "stdout",
     "output_type": "stream",
     "text": [
      "dest\n"
     ]
    }
   ],
   "source": [
    "mv src dest/\n",
    "ls"
   ]
  },
  {
   "cell_type": "code",
   "execution_count": 12,
   "metadata": {},
   "outputs": [
    {
     "name": "stdout",
     "output_type": "stream",
     "text": [
      "src\n"
     ]
    }
   ],
   "source": [
    "ls /tmp/terminal_course/temp/dest/ "
   ]
  },
  {
   "cell_type": "code",
   "execution_count": 13,
   "metadata": {},
   "outputs": [
    {
     "name": "stdout",
     "output_type": "stream",
     "text": [
      "wikipedia_head\n"
     ]
    }
   ],
   "source": [
    "rm -rf /tmp/terminal_course/temp\n",
    "ls /tmp/terminal_course"
   ]
  },
  {
   "cell_type": "markdown",
   "metadata": {},
   "source": [
    "**Conclusion**: The commands `mv src dest` and `mv src dest/` have no practical difference so `/` is redundant."
   ]
  },
  {
   "cell_type": "markdown",
   "metadata": {},
   "source": [
    "6. Rename the file `wikipedia_head` in `/tmp/terminal_course` to `wiki_head.sh`."
   ]
  },
  {
   "cell_type": "code",
   "execution_count": 14,
   "metadata": {},
   "outputs": [
    {
     "name": "stdout",
     "output_type": "stream",
     "text": [
      "wikipedia_head\n"
     ]
    }
   ],
   "source": [
    "cd /tmp/terminal_course\n",
    "ls"
   ]
  },
  {
   "cell_type": "code",
   "execution_count": 15,
   "metadata": {},
   "outputs": [
    {
     "name": "stdout",
     "output_type": "stream",
     "text": [
      "wiki_head.sh\n"
     ]
    }
   ],
   "source": [
    "mv wikipedia_head wiki_head.sh\n",
    "ls"
   ]
  },
  {
   "cell_type": "markdown",
   "metadata": {},
   "source": [
    "7. One can use also `>>` to write to files. Can you find out the difference to `>`?"
   ]
  },
  {
   "cell_type": "code",
   "execution_count": 16,
   "metadata": {},
   "outputs": [
    {
     "name": "stdout",
     "output_type": "stream",
     "text": [
      "line 2\n",
      "line 3\n"
     ]
    }
   ],
   "source": [
    "echo \"line 1\" > wiki_head.sh\n",
    "echo \"line 2\" > wiki_head.sh\n",
    "echo \"line 3\" >> wiki_head.sh\n",
    "cat wiki_head.sh"
   ]
  },
  {
   "cell_type": "markdown",
   "metadata": {},
   "source": [
    "`>` overwrites the file and `>>` appends to the file."
   ]
  },
  {
   "cell_type": "markdown",
   "metadata": {},
   "source": [
    "8. Write the following into that file, one line at a time:\n",
    "\n",
    ">     #!/bin/sh\n",
    ">     curl --head --silent https://en.wikipedia.org\n",
    "\n",
    "The first line might be tricky to get working. It’s helpful to know that `#` starts a comment in Bash, and `!` has a special meaning even within double-quoted (`\"`) strings. Bash treats single-quoted strings (`'`) differently: they will do the trick in this case. See the [Bash quoting](https://www.gnu.org/software/bash/manual/html_node/Quoting.html) manual page for more information."
   ]
  },
  {
   "cell_type": "code",
   "execution_count": 17,
   "metadata": {},
   "outputs": [
    {
     "name": "stdout",
     "output_type": "stream",
     "text": [
      "#!/bin/sh\n"
     ]
    }
   ],
   "source": [
    "echo '#!/bin/sh' > wiki_head.sh\n",
    "cat wiki_head.sh"
   ]
  },
  {
   "cell_type": "code",
   "execution_count": 18,
   "metadata": {},
   "outputs": [
    {
     "name": "stdout",
     "output_type": "stream",
     "text": [
      "#!/bin/sh\n",
      "curl --head --silent https://www.wikipedia.org\n"
     ]
    }
   ],
   "source": [
    "echo 'curl --head --silent https://www.wikipedia.org' >> wiki_head.sh\n",
    "cat wiki_head.sh"
   ]
  },
  {
   "cell_type": "markdown",
   "metadata": {},
   "source": [
    "9. Try to execute the file, i.e., type the path to the script (`./wiki_head.sh`)\n",
    "   into your shell and press enter. Understand why it doesn’t work by consulting the output of `ls` (*hint*: look at the permission bits of the file)."
   ]
  },
  {
   "cell_type": "code",
   "execution_count": 19,
   "metadata": {},
   "outputs": [
    {
     "name": "stdout",
     "output_type": "stream",
     "text": [
      "bash: ./wiki_head.sh: Permission denied\n"
     ]
    },
    {
     "ename": "",
     "evalue": "126",
     "output_type": "error",
     "traceback": []
    }
   ],
   "source": [
    "./wiki_head.sh"
   ]
  },
  {
   "cell_type": "code",
   "execution_count": 20,
   "metadata": {},
   "outputs": [
    {
     "name": "stdout",
     "output_type": "stream",
     "text": [
      "total 8\n",
      "-rw-r--r--  1 omer  wheel    57B 24 Dez 17:15 wiki_head.sh\n"
     ]
    },
    {
     "name": "stdout",
     "output_type": "stream",
     "text": [
      "-rw-r--r--@ 1 omer  wheel    56B Dec 17 21:54 wiki_head.sh\n"
     ]
    }
   ],
   "source": [
    "ls -lh"
   ]
  },
  {
   "cell_type": "markdown",
   "metadata": {},
   "source": [
    "- `-` mean the type of the file, `-` for a file and `d` for a directory\n",
    "- `rwx` mean read, write and execute permission for the user\n",
    "- second `rwx` mean read, write and execute permission for the group\n",
    "- third `rwx` mean read, write and execute permission for others\n",
    "- 1 reference to the file name\n",
    "- omer is the name of the user\n",
    "- wheel is the name of the group\n",
    "- file size 56 Bytes\n",
    "- last modified time"
   ]
  },
  {
   "cell_type": "markdown",
   "metadata": {},
   "source": [
    "So we don't have any `x` execute permission in order to be able to execute the file using `./filename` command."
   ]
  },
  {
   "cell_type": "markdown",
   "metadata": {},
   "source": [
    "10. Run the command by explicitly starting the `sh` interpreter, and giving it the file `wiki_head.sh` as the first argument, i.e. `sh wiki_head.sh`. Why does this work, while `./wiki_head.sh` didn’t?"
   ]
  },
  {
   "cell_type": "code",
   "execution_count": 21,
   "metadata": {},
   "outputs": [
    {
     "name": "stdout",
     "output_type": "stream",
     "text": [
      "\n",
      "\n",
      "\n",
      "\n",
      "\n",
      "\n",
      "\n",
      "\n",
      "\n",
      "\n",
      "\n",
      "\n",
      "\n",
      "\n",
      "\n",
      "\n",
      "\n",
      "\n",
      "\n",
      "\n",
      "\n",
      "\n",
      "\n",
      "1mcontent-length\u001b[0m: 100847Limit=0.001;Path=/;Secure;SameSite=Lax;Max-Age=3600ikipedia.orge;Expires=Sat, 25 Jan 2025 12:00:00 GMT.reportingapi.network_error&schema_uri=/w3c/reportingapi/network_error/1.0.0\" }] }"
     ]
    }
   ],
   "source": [
    "sh wiki_head.sh"
   ]
  },
  {
   "cell_type": "markdown",
   "metadata": {},
   "source": [
    "**Conclusion:** The reason we are able to use `sh` command but can not directly execute the file using `./filename` command is because `sh` only needs to *read* the file and take the content as the input, so it only needs the `r` permission which we already have, that means if are able to change the user permissions to allow execution, we should be able to run the file directly using `./filename`."
   ]
  },
  {
   "cell_type": "markdown",
   "metadata": {},
   "source": [
    "11. Look up the `chmod` program (e.g. use `man chmod`). You also might find [this](https://en.wikipedia.org/wiki/File-system_permissions#Notation_of_traditional_Unix_permissions) useful."
   ]
  },
  {
   "cell_type": "markdown",
   "metadata": {},
   "source": [
    "Some useful `chmod` commands:\n",
    "\n",
    "```bash\n",
    "chmod 755 filename # change permission to rwxr-xr-x\n",
    "chmod 777 filename # give all permissions to everyone\n",
    "chmod 644 filename # change permission to rw-r--r-- (which is by default)\n",
    "chmod 000 filename # no one has any permission\n",
    "chmod u+x filename # give execute permission to the user\n",
    "chmod u-x filename # take execute permission to the user\n",
    "chmod ugo+xr filename # give execute and read permission to the user, group and others\n",
    "```"
   ]
  },
  {
   "cell_type": "code",
   "execution_count": 22,
   "metadata": {},
   "outputs": [
    {
     "name": "stdout",
     "output_type": "stream",
     "text": [
      "total 8\n",
      "-rwxr--r--  1 omer  wheel    57B 24 Dez 17:15 wiki_head.sh\n"
     ]
    }
   ],
   "source": [
    "chmod u+x wiki_head.sh\n",
    "ls -lh"
   ]
  },
  {
   "cell_type": "code",
   "execution_count": 23,
   "metadata": {},
   "outputs": [
    {
     "name": "stdout",
     "output_type": "stream",
     "text": [
      "total 8\n",
      "----------  1 omer  wheel    57B 24 Dez 17:15 wiki_head.sh\n"
     ]
    }
   ],
   "source": [
    "chmod 000 wiki_head.sh\n",
    "ls -lh"
   ]
  },
  {
   "cell_type": "code",
   "execution_count": 24,
   "metadata": {},
   "outputs": [
    {
     "name": "stdout",
     "output_type": "stream",
     "text": [
      "total 8\n",
      "-r-xr-xr-x  1 omer  wheel    57B 24 Dez 17:15 wiki_head.sh\n"
     ]
    }
   ],
   "source": [
    "chmod ugo+xr wiki_head.sh\n",
    "ls -lh"
   ]
  },
  {
   "cell_type": "markdown",
   "metadata": {},
   "source": [
    "12. Use `chmod` to make it possible to run the command `./wiki_head.sh` rather than having to type `sh wiki_head.sh`. How does your shell know that the file is supposed to be interpreted using `sh`? See [this page](https://en.wikipedia.org/wiki/Shebang_(Unix)) on the shebang line for more information."
   ]
  },
  {
   "cell_type": "code",
   "execution_count": 25,
   "metadata": {},
   "outputs": [
    {
     "name": "stdout",
     "output_type": "stream",
     "text": [
      "total 8\n",
      "-rwx------  1 omer  wheel    57B 24 Dez 17:15 wiki_head.sh\n"
     ]
    }
   ],
   "source": [
    "chmod u+xwr wiki_head.sh\n",
    "chmod go-xwr wiki_head.sh\n",
    "ls -lh"
   ]
  },
  {
   "cell_type": "code",
   "execution_count": 26,
   "metadata": {},
   "outputs": [
    {
     "name": "stdout",
     "output_type": "stream",
     "text": [
      "\n",
      "\n",
      "\n",
      "\n",
      "\n",
      "\n",
      "\n",
      "\n",
      "\n",
      "\n",
      "\n",
      "\n",
      "\n",
      "\n",
      "\n",
      "\n",
      "\n",
      "\n",
      "\n",
      "\n",
      "\n",
      "\n",
      "\n",
      "1mcontent-length\u001b[0m: 100847Limit=0.001;Path=/;Secure;SameSite=Lax;Max-Age=3600ikipedia.orge;Expires=Sat, 25 Jan 2025 12:00:00 GMT.reportingapi.network_error&schema_uri=/w3c/reportingapi/network_error/1.0.0\" }] }"
     ]
    }
   ],
   "source": [
    "./wiki_head.sh"
   ]
  },
  {
   "cell_type": "code",
   "execution_count": 27,
   "metadata": {},
   "outputs": [
    {
     "name": "stdout",
     "output_type": "stream",
     "text": [
      "total 8\n",
      "--wx------  1 omer  wheel    57B 24 Dez 17:15 wiki_head.sh\n",
      "sh: wiki_head.sh: Permission denied\n"
     ]
    },
    {
     "ename": "",
     "evalue": "126",
     "output_type": "error",
     "traceback": []
    }
   ],
   "source": [
    "chmod u-r wiki_head.sh\n",
    "ls -lh\n",
    "sh wiki_head.sh"
   ]
  },
  {
   "cell_type": "markdown",
   "metadata": {},
   "source": [
    "Bingo, now even with sh command it could not execute it because I have taken the read permission from the user."
   ]
  },
  {
   "cell_type": "markdown",
   "metadata": {},
   "source": [
    "13. Use `curl`, `|`, and `>` to write the “last-modified” date output by `wiki_head` into a file called `last-modified.txt` in your home directory."
   ]
  },
  {
   "cell_type": "code",
   "execution_count": 55,
   "metadata": {},
   "outputs": [
    {
     "name": "stdout",
     "output_type": "stream",
     "text": [
      " Tue, 24 Dec 2024 \n"
     ]
    }
   ],
   "source": [
    "curl --head --silent https://en.wikipedia.org | grep -i \"last-modified\" | cut -d : -f2 | cut -d 1 -f1 > last_modified.txt\n",
    "cat last_modified.txt"
   ]
  },
  {
   "cell_type": "markdown",
   "metadata": {},
   "source": [
    "14. Use `|`, `grep`, and `wc -l`, in order to find out how often the word 'thou' (NOT words that contain 'thou') can be found in Shakespeare's work. *Hint*: Check [this](https://raw.githubusercontent.com/brunoklein99/deep-learning-notes/master/shakespeare.txt) out!"
   ]
  },
  {
   "cell_type": "code",
   "execution_count": 95,
   "metadata": {},
   "outputs": [],
   "source": [
    "rm -rf *\n",
    "ls"
   ]
  },
  {
   "cell_type": "code",
   "execution_count": 97,
   "metadata": {},
   "outputs": [
    {
     "name": "stdout",
     "output_type": "stream",
     "text": [
      "     289\n"
     ]
    }
   ],
   "source": [
    "cp -r '/Users/omer/Programming/terminal_course/data' .\n",
    "cd /tmp/terminal_course/data\n",
    "cat shakespeare.txt | grep -o 'thou' | wc -l"
   ]
  },
  {
   "cell_type": "markdown",
   "metadata": {},
   "source": [
    "15. Display lines 1789-1815 from the Shakespeare file using two different methods: `head` and `tail` as well as `sed`. *Hint*: Check their `man` pages."
   ]
  },
  {
   "cell_type": "code",
   "execution_count": 99,
   "metadata": {},
   "outputs": [
    {
     "name": "stdout",
     "output_type": "stream",
     "text": [
      "From fairest creatures we desire increase,\n",
      "That thereby beauty's rose might never die,\n",
      "But as the riper should by time decease,\n",
      "His tender heir might bear his memory:\n",
      "But thou contracted to thine own bright eyes,\n",
      "Feed'st thy light's flame with self-substantial fuel,\n"
     ]
    }
   ],
   "source": [
    "cd /tmp/terminal_course/data \n",
    "cat shakespeare.txt | head -n 10 | tail -n $((10 - (5 - 1)))"
   ]
  },
  {
   "cell_type": "markdown",
   "metadata": {},
   "source": [
    "10 - (5 - 1) is because otherwise line #5 won't be included."
   ]
  },
  {
   "cell_type": "code",
   "execution_count": 100,
   "metadata": {},
   "outputs": [
    {
     "name": "stdout",
     "output_type": "stream",
     "text": [
      "My most true mind thus maketh mine untrue.\n",
      "\n",
      "\n",
      "\n",
      "Or whether doth my mind being crowned with you\n",
      "Drink up the monarch's plague this flattery?\n",
      "Or whether shall I say mine eye saith true,\n",
      "And that your love taught it this alchemy?\n",
      "To make of monsters, and things indigest,\n",
      "Such cherubins as your sweet self resemble,\n",
      "Creating every bad a perfect best\n",
      "As fast as objects to his beams assemble:\n",
      "O 'tis the first, 'tis flattery in my seeing,\n",
      "And my great mind most kingly drinks it up,\n",
      "Mine eye well knows what with his gust is 'greeing,  \n",
      "And to his palate doth prepare the cup.\n",
      "If it be poisoned, 'tis the lesser sin,\n",
      "That mine eye loves it and doth first begin.\n",
      "\n",
      "\n",
      "\n",
      "Those lines that I before have writ do lie,\n",
      "Even those that said I could not love you dearer,\n",
      "Yet then my judgment knew no reason why,\n",
      "My most full flame should afterwards burn clearer,\n",
      "But reckoning time, whose millioned accidents\n",
      "Creep in 'twixt vows, and change decrees of kings,\n"
     ]
    }
   ],
   "source": [
    "cat shakespeare.txt | head -n 1815 | tail -n $((1815 - (1789 - 1)))"
   ]
  },
  {
   "cell_type": "code",
   "execution_count": 101,
   "metadata": {},
   "outputs": [
    {
     "name": "stdout",
     "output_type": "stream",
     "text": [
      "From fairest creatures we desire increase,\n",
      "That thereby beauty's rose might never die,\n",
      "But as the riper should by time decease,\n",
      "His tender heir might bear his memory:\n",
      "But thou contracted to thine own bright eyes,\n",
      "Feed'st thy light's flame with self-substantial fuel,\n"
     ]
    }
   ],
   "source": [
    "sed -n '5,10p' shakespeare.txt"
   ]
  },
  {
   "cell_type": "code",
   "execution_count": 102,
   "metadata": {},
   "outputs": [
    {
     "name": "stdout",
     "output_type": "stream",
     "text": [
      "My most true mind thus maketh mine untrue.\n",
      "\n",
      "\n",
      "\n",
      "Or whether doth my mind being crowned with you\n",
      "Drink up the monarch's plague this flattery?\n",
      "Or whether shall I say mine eye saith true,\n",
      "And that your love taught it this alchemy?\n",
      "To make of monsters, and things indigest,\n",
      "Such cherubins as your sweet self resemble,\n",
      "Creating every bad a perfect best\n",
      "As fast as objects to his beams assemble:\n",
      "O 'tis the first, 'tis flattery in my seeing,\n",
      "And my great mind most kingly drinks it up,\n",
      "Mine eye well knows what with his gust is 'greeing,  \n",
      "And to his palate doth prepare the cup.\n",
      "If it be poisoned, 'tis the lesser sin,\n",
      "That mine eye loves it and doth first begin.\n",
      "\n",
      "\n",
      "\n",
      "Those lines that I before have writ do lie,\n",
      "Even those that said I could not love you dearer,\n",
      "Yet then my judgment knew no reason why,\n",
      "My most full flame should afterwards burn clearer,\n",
      "But reckoning time, whose millioned accidents\n",
      "Creep in 'twixt vows, and change decrees of kings,\n"
     ]
    }
   ],
   "source": [
    "sed -n '1789,1815p' shakespeare.txt"
   ]
  },
  {
   "cell_type": "markdown",
   "metadata": {},
   "source": [
    "```bash\n",
    "sed -n 'a,bp' filename\n",
    "```\n",
    "\n",
    "`-n` means it will only print the required lines, without `-n` it will print the complete file and repeat the required lines from a to b\n",
    "\n",
    "`'a,bp'` means line number a to line number b, both boundaries included and p stands for print"
   ]
  },
  {
   "cell_type": "markdown",
   "metadata": {},
   "source": [
    "16. Assume `echo \"hello_world_content\" > \"hello_world.txt\"` has been run. Predict the output and understand their differences in the following command pairs: \n",
    "    - `ls | echo` vs. `ls | xargs echo`\n",
    "    - `ls | cat` vs. `ls | xargs cat`\n",
    "    - `echo \"this_file_does_not_exists.txt\" | cat` vs. `echo \"this_file_does_not_exists.txt\" | xargs cat`"
   ]
  },
  {
   "cell_type": "code",
   "execution_count": 103,
   "metadata": {},
   "outputs": [
    {
     "name": "stdout",
     "output_type": "stream",
     "text": [
      "hello_world_content\n"
     ]
    }
   ],
   "source": [
    "mkdir /tmp/terminal_course/temp\n",
    "cd /tmp/terminal_course/temp\n",
    "echo \"hello_world_content\" > \"hello_world.txt\"\n",
    "cat hello_world.txt"
   ]
  },
  {
   "cell_type": "code",
   "execution_count": 104,
   "metadata": {},
   "outputs": [
    {
     "name": "stdout",
     "output_type": "stream",
     "text": [
      "\n"
     ]
    }
   ],
   "source": [
    "ls | echo"
   ]
  },
  {
   "cell_type": "code",
   "execution_count": 105,
   "metadata": {},
   "outputs": [
    {
     "name": "stdout",
     "output_type": "stream",
     "text": [
      "hello_world.txt\n"
     ]
    }
   ],
   "source": [
    "ls | xargs echo"
   ]
  },
  {
   "cell_type": "code",
   "execution_count": 106,
   "metadata": {},
   "outputs": [
    {
     "name": "stdout",
     "output_type": "stream",
     "text": [
      "hello_world.txt\n"
     ]
    }
   ],
   "source": [
    "ls | cat"
   ]
  },
  {
   "cell_type": "code",
   "execution_count": 107,
   "metadata": {},
   "outputs": [
    {
     "name": "stdout",
     "output_type": "stream",
     "text": [
      "hello_world_content\n"
     ]
    }
   ],
   "source": [
    "ls | xargs cat"
   ]
  },
  {
   "cell_type": "code",
   "execution_count": 108,
   "metadata": {},
   "outputs": [
    {
     "name": "stdout",
     "output_type": "stream",
     "text": [
      "this_file_does_not_exist\n"
     ]
    }
   ],
   "source": [
    "echo \"this_file_does_not_exist\" | cat"
   ]
  },
  {
   "cell_type": "code",
   "execution_count": 109,
   "metadata": {},
   "outputs": [
    {
     "name": "stdout",
     "output_type": "stream",
     "text": [
      "cat: this_file_does_not_exist: No such file or directory\n"
     ]
    },
    {
     "ename": "",
     "evalue": "1",
     "output_type": "error",
     "traceback": []
    }
   ],
   "source": [
    "echo \"this_file_does_not_exist\" | xargs cat"
   ]
  },
  {
   "cell_type": "markdown",
   "metadata": {},
   "source": [
    "*Conclusion:* `echo` command does not input from the pipeline but it needs to get input using `xargs` when piping. `cat` on the other hand treats input as just a raw text when getting it through the piping and treats as an argument when getting the input through `xargs`.\n",
    "\n",
    "The following three commands have exactly the same output:\n",
    "```bash\n",
    "ls\n",
    "ls | xargs echo\n",
    "ls | cat\n",
    "```\n",
    "> hello_world.txt"
   ]
  },
  {
   "cell_type": "code",
   "execution_count": 110,
   "metadata": {},
   "outputs": [],
   "source": [
    "rm -rf /tmp/terminal_course/"
   ]
  }
 ],
 "metadata": {
  "kernelspec": {
   "display_name": "Bash",
   "language": "bash",
   "name": "bash"
  },
  "language_info": {
   "codemirror_mode": "shell",
   "file_extension": ".sh",
   "mimetype": "text/x-sh",
   "name": "bash"
  }
 },
 "nbformat": 4,
 "nbformat_minor": 4
}
