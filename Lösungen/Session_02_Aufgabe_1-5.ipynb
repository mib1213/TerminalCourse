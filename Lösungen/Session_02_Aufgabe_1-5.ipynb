{
 "cells": [
  {
   "cell_type": "code",
   "execution_count": 57,
   "metadata": {},
   "outputs": [
    {
     "name": "stdout",
     "output_type": "stream",
     "text": [
      "hello world\n"
     ]
    }
   ],
   "source": [
    "echo \"hello world\""
   ]
  },
  {
   "cell_type": "code",
   "execution_count": 58,
   "metadata": {},
   "outputs": [],
   "source": [
    "cd /tmp\n",
    "rm -rf terminal_course\n",
    "mkdir terminal_course\n",
    "cd terminal_course\n",
    "ls"
   ]
  },
  {
   "cell_type": "markdown",
   "metadata": {},
   "source": [
    "1. Read `man ls` and write an `ls` command that lists files in the following manner\n",
    "   - Includes all files, including hidden files\n",
    "   - Sizes are listed in human-readable format (e.g. `454M` instead of `454279954`)\n",
    "   - Files are ordered by recency\n",
    "   - Output is colorized"
   ]
  },
  {
   "cell_type": "markdown",
   "metadata": {},
   "source": [
    "   - Includes all files, including hidden files"
   ]
  },
  {
   "cell_type": "code",
   "execution_count": 59,
   "metadata": {},
   "outputs": [
    {
     "name": "stdout",
     "output_type": "stream",
     "text": [
      "file1\tfile2\tfile3\tfile4\tfile5\tfile6\tfile7\tfile8\tfile9\n"
     ]
    }
   ],
   "source": [
    "mkdir temp\n",
    "cd temp\n",
    "touch file{1..9} .hidden\n",
    "ls"
   ]
  },
  {
   "cell_type": "code",
   "execution_count": 60,
   "metadata": {},
   "outputs": [
    {
     "name": "stdout",
     "output_type": "stream",
     "text": [
      ".hidden\tfile1\tfile2\tfile3\tfile4\tfile5\tfile6\tfile7\tfile8\tfile9\n"
     ]
    }
   ],
   "source": [
    "ls -A"
   ]
  },
  {
   "cell_type": "markdown",
   "metadata": {},
   "source": [
    "   - Sizes are listed in human-readable format (e.g. `454M` instead of `454279954`)"
   ]
  },
  {
   "cell_type": "code",
   "execution_count": 61,
   "metadata": {},
   "outputs": [
    {
     "name": "stdout",
     "output_type": "stream",
     "text": [
      "     displays its name as well as any requested, associated information.  For\n",
      "     associated information.\n",
      "             When printing in the long (--ll) format, use _f_o_r_m_a_t to format the\n",
      "             strftime(3).  Depending on the choice of format string, this may\n",
      "     -T      When printing in the long (-l) format, display complete time\n",
      "             information for the file, including month, day, hour, minute,\n",
      "             output format.  This option is not defined in IEEE Std\n",
      "             name in the long (-l) format output.  This option is incompatible\n",
      "     -h      When used with the -l option, use unit suffixes: Byte, Kilobyte,\n",
      "             Megabyte, Gigabyte, Terabyte and Petabyte in order to reduce the\n",
      "     -l      (The lowercase letter “ell”.) List files in the long format, as\n",
      "     -m      Stream output format; list files across the page, separated by\n",
      "     -o      List in long format, but omit the group id.\n",
      "             in The Long Format subsection below, except (if the long format\n",
      "             requested.  (-l) format, display complete time information for\n",
      "             The -D option gives even more control over the output format.\n",
      "     specified determines the format used.\n",
      "     specified determines the format used for non-printable characters.\n",
      "     File information is displayed with one or more ⟨blank⟩s separating the\n",
      "     information associated with the -i, -s, and -l options.\n",
      "     If the -l option is given, the following information is displayed for\n",
      "     bytes in the file, abbreviated month, day-of-month file was last\n",
      "     information (such as an access control list), the permissions field\n",
      "     The default block size is 512 bytes.  The block size may be set with\n",
      "     output will have been rounded up so the numbers of bytes is at least as\n",
      "                         in bytes by the -l and -s options.  See The Long\n",
      "                         Format subsection for more information.\n",
      "                         and month in the long -l format output.  See\n",
      "                         environ(7) for more information.\n",
      "                         concatenation of pairs of the format fb, where f is\n",
      "                         environ(7) for more information.\n",
      "     List the contents of the current working directory in long format:\n",
      "     long format, show inode numbers, file flags (see chflags(1)), and suffix\n",
      "     For more information about legacy mode, see compat(5).\n"
     ]
    }
   ],
   "source": [
    "man ls | grep -i -E \"format|byte\""
   ]
  },
  {
   "cell_type": "code",
   "execution_count": 62,
   "metadata": {},
   "outputs": [
    {
     "name": "stdout",
     "output_type": "stream",
     "text": [
      "total 0\n",
      "-rw-r--r--  1 omer  wheel     0B 24 Dez 06:33 file1\n",
      "-rw-r--r--  1 omer  wheel     0B 24 Dez 06:33 file2\n",
      "-rw-r--r--  1 omer  wheel     0B 24 Dez 06:33 file3\n",
      "-rw-r--r--  1 omer  wheel     0B 24 Dez 06:33 file4\n",
      "-rw-r--r--  1 omer  wheel     0B 24 Dez 06:33 file5\n",
      "-rw-r--r--  1 omer  wheel     0B 24 Dez 06:33 file6\n",
      "-rw-r--r--  1 omer  wheel     0B 24 Dez 06:33 file7\n",
      "-rw-r--r--  1 omer  wheel     0B 24 Dez 06:33 file8\n",
      "-rw-r--r--  1 omer  wheel     0B 24 Dez 06:33 file9\n"
     ]
    }
   ],
   "source": [
    "ls -lh"
   ]
  },
  {
   "cell_type": "markdown",
   "metadata": {},
   "source": [
    "   - Files are ordered by recency"
   ]
  },
  {
   "cell_type": "code",
   "execution_count": 63,
   "metadata": {},
   "outputs": [
    {
     "name": "stdout",
     "output_type": "stream",
     "text": [
      "     displayed first; directory and non-directory operands are sorted\n",
      "     --SS      Sort by size (largest file first) before sorting the operands in\n",
      "     -U      Use time when file was created for sorting or printing.  This\n",
      "     -c      Use time when file status was last changed for sorting or\n",
      "     -f      Output is not sorted.  This option turns on -a.  It also negates\n",
      "     -r      Reverse the order of the sort.\n",
      "     -t      Sort by descending time modified (most recently modified first).\n",
      "             If two files have the same modification timestamp, sort their\n",
      "             both of these sort orders.\n",
      "             Note that these sort orders are contradictory: the time sequence\n",
      "             is in descending order, the lexicographical sort is in ascending\n",
      "             sort order for time and for lexicographical sorting, set the\n",
      "             environment variable LS_SAMESORT or use the -y option.  This\n",
      "             causes ls to reverse the lexicographical sort order when sorting\n",
      "             the file for sorting (-t) or long printing (-l).\n",
      "             with entries sorted across, rather than down, the columns.\n",
      "     -y      When the -t option is set, sort the alphabetical output in the\n",
      "             setting LS_SAMESORT.  See the description of the -t option for\n",
      "     determines the sort order used.\n",
      "     LS_SAMESORT         If this variable is set, the -t option sorts the\n",
      "                         in the same sense as the time sort.  See the\n",
      "     List the files in /var/log, sorting the output such that the most\n",
      "     chflags(1), chmod(1), sort(1), xterm(1), localeconv(3), strftime(3),\n",
      "     IEEE Std 1003.2 (“POSIX.2”) mandates opposite sort orders for files with\n",
      "     the same timestamp when sorting with the -t option.\n"
     ]
    }
   ],
   "source": [
    "man ls | grep -i \"sort\""
   ]
  },
  {
   "cell_type": "code",
   "execution_count": 64,
   "metadata": {},
   "outputs": [
    {
     "name": "stdout",
     "output_type": "stream",
     "text": [
      "total 0\n",
      "-rw-r--r--  1 omer  wheel     0B 24 Dez 06:33 file9\n",
      "-rw-r--r--  1 omer  wheel     0B 24 Dez 06:33 file8\n",
      "-rw-r--r--  1 omer  wheel     0B 24 Dez 06:33 file7\n",
      "-rw-r--r--  1 omer  wheel     0B 24 Dez 06:33 file6\n",
      "-rw-r--r--  1 omer  wheel     0B 24 Dez 06:33 file5\n",
      "-rw-r--r--  1 omer  wheel     0B 24 Dez 06:33 file4\n",
      "-rw-r--r--  1 omer  wheel     0B 24 Dez 06:33 file3\n",
      "-rw-r--r--  1 omer  wheel     0B 24 Dez 06:33 file2\n",
      "-rw-r--r--  1 omer  wheel     0B 24 Dez 06:33 file1\n"
     ]
    }
   ],
   "source": [
    "ls -lht"
   ]
  },
  {
   "cell_type": "code",
   "execution_count": 65,
   "metadata": {},
   "outputs": [
    {
     "name": "stdout",
     "output_type": "stream",
     "text": [
      "     --GG      Enable colorized output.  This option is equivalent to defining\n",
      "             CLICOLOR or COLORTERM in the environment and setting\n",
      "             out by removing the definition of COLORLS.  This option is not\n",
      "             Output colored escape sequences based on when, which may be set\n",
      "             always will make ls always output color.  If TERM is unset or set\n",
      "             or the COLORTERM environment variable is set and not empty.\n",
      "             never will disable color regardless of environment variables.\n",
      "     CLICOLOR            Use ANSI color sequences to distinguish file types.\n",
      "                         See LSCOLORS below.  In addition to the file types\n",
      "                         colorization is dependent on a terminal type with the\n",
      "                         the colors in an xterm(1), for example, the TERM\n",
      "                         variable must be set to “xterm-color”.  Other\n",
      "                         Colorization is silently disabled if the output is\n",
      "                         not directed to a terminal unless the CLICOLOR_FORCE\n",
      "     CLICOLOR_FORCE      Color sequences are normally disabled if the output\n",
      "                         variable still needs to reference a color capable\n",
      "                         determine which color sequences to use.\n",
      "     COLORTERM           See description for CLICOLOR above.\n",
      "     LSCOLORS            The value of this variable describes what color to\n",
      "                         use for which attribute when colors are enabled with\n",
      "                         CLICOLOR or COLORTERM.  This string is a\n",
      "                         the foreground color and b is the background color.\n",
      "                         The color designators are as follows:\n",
      "                         Note that the above are standard ANSI colors.  The\n",
      "                         actual display may differ depending on the color\n",
      "     TERM                The CLICOLOR and COLORTERM functionality depends on a\n",
      "                         terminal type with color capabilities.\n"
     ]
    }
   ],
   "source": [
    "man ls | grep -i \"color\""
   ]
  },
  {
   "cell_type": "markdown",
   "metadata": {},
   "source": [
    "   - Output is colorized"
   ]
  },
  {
   "cell_type": "code",
   "execution_count": 66,
   "metadata": {},
   "outputs": [
    {
     "name": "stdout",
     "output_type": "stream",
     "text": [
      "total 0\n",
      "-rw-r--r--  1 omer  wheel     0B 24 Dez 06:33 file1\n",
      "-rw-r--r--  1 omer  wheel     0B 24 Dez 06:33 file2\n",
      "-rw-r--r--  1 omer  wheel     0B 24 Dez 06:33 file3\n",
      "-rw-r--r--  1 omer  wheel     0B 24 Dez 06:33 file4\n",
      "-rw-r--r--  1 omer  wheel     0B 24 Dez 06:33 file5\n",
      "-rw-r--r--  1 omer  wheel     0B 24 Dez 06:33 file6\n",
      "-rw-r--r--  1 omer  wheel     0B 24 Dez 06:33 file7\n",
      "-rw-r--r--  1 omer  wheel     0B 24 Dez 06:33 file8\n",
      "-rw-r--r--  1 omer  wheel     0B 24 Dez 06:33 file9\n"
     ]
    }
   ],
   "source": [
    "ls -lh -G # not showing the color output!"
   ]
  },
  {
   "cell_type": "markdown",
   "metadata": {},
   "source": [
    "2. Predict the outcome of the following code: \n",
    "\n",
    ">     #!/bin/sh\n",
    ">     for i in hello 1 * 2 goodbye \n",
    ">     do\n",
    ">        echo \"Looping ... i is set to $i\"\n",
    ">     done\n",
    "\n",
    "Make sure that you understand what is happening here. Try it without the `*` and try it again with the `*` in place. Try it also in different directories, and with the `*` surrounded by double quotes and surrounded by single quotes, and try it preceded by a backslash (`\\*`), and also single quotes plus backslash as well as double quotes plus backslash."
   ]
  },
  {
   "cell_type": "code",
   "execution_count": 67,
   "metadata": {},
   "outputs": [
    {
     "name": "stdout",
     "output_type": "stream",
     "text": [
      "Looping ... i is set to hello\n",
      "Looping ... i is set to 1\n",
      "Looping ... i is set to file1\n",
      "Looping ... i is set to file2\n",
      "Looping ... i is set to file3\n",
      "Looping ... i is set to file4\n",
      "Looping ... i is set to file5\n",
      "Looping ... i is set to file6\n",
      "Looping ... i is set to file7\n",
      "Looping ... i is set to file8\n",
      "Looping ... i is set to file9\n",
      "Looping ... i is set to 2\n",
      "Looping ... i is set to goodbye\n"
     ]
    }
   ],
   "source": [
    "for i in hello 1 * 2 goodbye; do\n",
    "   echo \"Looping ... i is set to $i\";\n",
    "done;"
   ]
  },
  {
   "cell_type": "markdown",
   "metadata": {},
   "source": [
    "Try it without the `*`"
   ]
  },
  {
   "cell_type": "code",
   "execution_count": 68,
   "metadata": {},
   "outputs": [
    {
     "name": "stdout",
     "output_type": "stream",
     "text": [
      "Looping ... i is set to hello\n",
      "Looping ... i is set to 1\n",
      "Looping ... i is set to 2\n",
      "Looping ... i is set to goodbye\n"
     ]
    }
   ],
   "source": [
    "for i in hello 1 2 goodbye; do\n",
    "   echo \"Looping ... i is set to $i\";\n",
    "done;"
   ]
  },
  {
   "cell_type": "markdown",
   "metadata": {},
   "source": [
    "try `*` surrounded by double quotes"
   ]
  },
  {
   "cell_type": "code",
   "execution_count": 69,
   "metadata": {},
   "outputs": [
    {
     "name": "stdout",
     "output_type": "stream",
     "text": [
      "Looping ... i is set to hello\n",
      "Looping ... i is set to 1\n",
      "Looping ... i is set to *\n",
      "Looping ... i is set to 2\n",
      "Looping ... i is set to goodbye\n"
     ]
    }
   ],
   "source": [
    "for i in hello 1 \"*\" 2 goodbye; do\n",
    "   echo \"Looping ... i is set to $i\";\n",
    "done;"
   ]
  },
  {
   "cell_type": "markdown",
   "metadata": {},
   "source": [
    "try `*` surrounded by single quotes"
   ]
  },
  {
   "cell_type": "code",
   "execution_count": 70,
   "metadata": {},
   "outputs": [
    {
     "name": "stdout",
     "output_type": "stream",
     "text": [
      "Looping ... i is set to hello\n",
      "Looping ... i is set to 1\n",
      "Looping ... i is set to *\n",
      "Looping ... i is set to 2\n",
      "Looping ... i is set to goodbye\n"
     ]
    }
   ],
   "source": [
    "for i in hello 1 '*' 2 goodbye; do\n",
    "   echo \"Looping ... i is set to $i\";\n",
    "done;"
   ]
  },
  {
   "cell_type": "markdown",
   "metadata": {},
   "source": [
    "try when `*` is preceded by a backslach `\\`"
   ]
  },
  {
   "cell_type": "code",
   "execution_count": 71,
   "metadata": {},
   "outputs": [
    {
     "name": "stdout",
     "output_type": "stream",
     "text": [
      "Looping ... i is set to hello\n",
      "Looping ... i is set to 1\n",
      "Looping ... i is set to *\n",
      "Looping ... i is set to 2\n",
      "Looping ... i is set to goodbye\n"
     ]
    }
   ],
   "source": [
    "for i in hello 1 \\* 2 goodbye; do\n",
    "   echo \"Looping ... i is set to $i\";\n",
    "done;"
   ]
  },
  {
   "cell_type": "markdown",
   "metadata": {},
   "source": [
    "try when `'\\*'` "
   ]
  },
  {
   "cell_type": "code",
   "execution_count": 72,
   "metadata": {},
   "outputs": [
    {
     "name": "stdout",
     "output_type": "stream",
     "text": [
      "Looping ... i is set to hello\n",
      "Looping ... i is set to 1\n",
      "Looping ... i is set to \\*\n",
      "Looping ... i is set to 2\n",
      "Looping ... i is set to goodbye\n"
     ]
    }
   ],
   "source": [
    "for i in hello 1 '\\*' 2 goodbye; do\n",
    "   echo \"Looping ... i is set to $i\";\n",
    "done;"
   ]
  },
  {
   "cell_type": "markdown",
   "metadata": {},
   "source": [
    "try when `\"\\*\"`"
   ]
  },
  {
   "cell_type": "code",
   "execution_count": 73,
   "metadata": {},
   "outputs": [
    {
     "name": "stdout",
     "output_type": "stream",
     "text": [
      "Looping ... i is set to hello\n",
      "Looping ... i is set to 1\n",
      "Looping ... i is set to \\*\n",
      "Looping ... i is set to 2\n",
      "Looping ... i is set to goodbye\n"
     ]
    }
   ],
   "source": [
    "for i in hello 1 \"\\*\" 2 goodbye; do\n",
    "   echo \"Looping ... i is set to $i\";\n",
    "done;"
   ]
  },
  {
   "cell_type": "markdown",
   "metadata": {},
   "source": [
    "**Conclusion:** `*` symbol without any double or single quotes acts like a wild card, with single or double quotes it acts like a literal `*` symbol and also when preceded by a backslach `\\`, it also acts like a literal, because `\\` is an escape character. Also when using `\\*` inside the double or single quotes, `\\` also acts like a literal and not an escape character anymore.\n",
    "\n",
    "The following cases are exactly the same:\n",
    "```bash\n",
    "echo \"*\"\n",
    "echo '*'\n",
    "echo \\*\n",
    "```"
   ]
  },
  {
   "cell_type": "markdown",
   "metadata": {},
   "source": [
    "3. Write a short `for` loop that counts all files (including hidden files) in the current directory. Check your result with the help of piping and `wc`! "
   ]
  },
  {
   "cell_type": "code",
   "execution_count": 74,
   "metadata": {},
   "outputs": [
    {
     "name": "stdout",
     "output_type": "stream",
     "text": [
      "10\n",
      "      10\n"
     ]
    }
   ],
   "source": [
    "counter=0; \n",
    "for i in $(ls -A); do \n",
    "    ((counter=counter+1)); \n",
    "done;\n",
    "echo $counter\n",
    "ls -A | wc -l"
   ]
  },
  {
   "cell_type": "markdown",
   "metadata": {},
   "source": [
    "4. Write a short `for` loop that renames all files (hidden files excluded) in a directory of your choice (but not the directory `terminal_course`!) in such a way that all spaces are replaced by underscores `_`. "
   ]
  },
  {
   "cell_type": "code",
   "execution_count": 75,
   "metadata": {},
   "outputs": [
    {
     "name": "stdout",
     "output_type": "stream",
     "text": [
      "file 1\tfile 2\tfile 3\tfile 4\tfile 5\tfile 6\tfile 7\tfile 8\tfile 9\n"
     ]
    }
   ],
   "source": [
    "cd /tmp/terminal_course\n",
    "rm -rf temp\n",
    "mkdir temp\n",
    "cd temp\n",
    "touch file\\ {1..9} .hidden\n",
    "ls"
   ]
  },
  {
   "cell_type": "code",
   "execution_count": 76,
   "metadata": {},
   "outputs": [
    {
     "name": "stdout",
     "output_type": "stream",
     "text": [
      "file_1\tfile_2\tfile_3\tfile_4\tfile_5\tfile_6\tfile_7\tfile_8\tfile_9\n"
     ]
    }
   ],
   "source": [
    "for file in *; do \n",
    "    mv \"$file\" \"${file/ /_}\"; \n",
    "done;\n",
    "ls"
   ]
  },
  {
   "cell_type": "code",
   "execution_count": 18,
   "metadata": {},
   "outputs": [
    {
     "name": "stdout",
     "output_type": "stream",
     "text": [
      "/tmp/terminal_course\n"
     ]
    }
   ],
   "source": [
    "cd /tmp\n",
    "rm -rf terminal_course\n",
    "mkdir terminal_course\n",
    "cd terminal_course\n",
    "pwd"
   ]
  },
  {
   "cell_type": "markdown",
   "metadata": {},
   "source": [
    "5. Say you have a command that fails rarely. In order to debug it you need to capture its output, but it can be time-consuming to get a failure run. Write a bash script that runs the following script until it fails and captures its standard output and error streams to files and prints everything at the end. Bonus points if you can also report how many runs it took for the script to fail.\n",
    "\n",
    ">     #!/usr/bin/env bash\n",
    ">     n=$(( RANDOM % 100 ))\n",
    ">     if [[ n -eq 42 ]]; then\n",
    ">        echo \"Something went wrong\"\n",
    ">        >&2 echo \"The error was using magic numbers\"\n",
    ">        exit 1\n",
    ">     fi\n",
    ">     echo \"Everything went according to plan\""
   ]
  },
  {
   "cell_type": "code",
   "execution_count": 19,
   "metadata": {},
   "outputs": [
    {
     "name": "stdout",
     "output_type": "stream",
     "text": [
      "#!/usr/bin/env bash\n",
      "n=$(( RANDOM % 100 ))\n",
      "if [[ n -eq 42 ]]; then\n",
      "   echo \"Something went wrong\"\n",
      "   >&2 echo \"The error was using magic numbers\"\n",
      "   exit 1\n",
      "fi\n",
      "echo \"Everything went according to plan\"\n"
     ]
    }
   ],
   "source": [
    "cat << 'EOF' > script.sh\n",
    "#!/usr/bin/env bash\n",
    "n=$(( RANDOM % 100 ))\n",
    "if [[ n -eq 42 ]]; then\n",
    "   echo \"Something went wrong\"\n",
    "   >&2 echo \"The error was using magic numbers\"\n",
    "   exit 1\n",
    "fi\n",
    "echo \"Everything went according to plan\"\n",
    "EOF\n",
    "chmod u+xwr script.sh\n",
    "cat script.sh"
   ]
  },
  {
   "cell_type": "code",
   "execution_count": 20,
   "metadata": {},
   "outputs": [
    {
     "name": "stdout",
     "output_type": "stream",
     "text": [
      "Everything went according to plan\n"
     ]
    }
   ],
   "source": [
    "output=$(./script.sh 2>&1)\n",
    "echo $output"
   ]
  },
  {
   "cell_type": "code",
   "execution_count": 24,
   "metadata": {},
   "outputs": [
    {
     "name": "stdout",
     "output_type": "stream",
     "text": [
      "Something went wrong The error was using magic numbers\n",
      "119\n"
     ]
    }
   ],
   "source": [
    "counter=0;\n",
    "while true; do\n",
    "    counter=$(( counter + 1 ));\n",
    "    output=$(./script.sh 2>&1);\n",
    "    if [ $? -ne 0 ]; then\n",
    "        echo $output;\n",
    "        echo $counter;\n",
    "        break;\n",
    "    fi;\n",
    "done;"
   ]
  },
  {
   "cell_type": "code",
   "execution_count": 82,
   "metadata": {},
   "outputs": [],
   "source": [
    "cd /tmp\n",
    "rm -rf terminal_course"
   ]
  }
 ],
 "metadata": {
  "kernelspec": {
   "display_name": "Bash",
   "language": "bash",
   "name": "bash"
  },
  "language_info": {
   "codemirror_mode": "shell",
   "file_extension": ".sh",
   "mimetype": "text/x-sh",
   "name": "bash"
  }
 },
 "nbformat": 4,
 "nbformat_minor": 4
}
