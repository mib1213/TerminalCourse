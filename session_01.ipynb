{
 "cells": [
  {
   "cell_type": "code",
   "execution_count": 1,
   "metadata": {},
   "outputs": [
    {
     "name": "stdout",
     "output_type": "stream",
     "text": [
      "hello world\n"
     ]
    }
   ],
   "source": [
    "!echo \"hello world\""
   ]
  },
  {
   "cell_type": "code",
   "execution_count": 43,
   "metadata": {},
   "outputs": [],
   "source": [
    "!rm -rf /tmp/terminal_course/"
   ]
  },
  {
   "cell_type": "markdown",
   "metadata": {},
   "source": [
    "1. Create a new directory called `terminal_course` under `/tmp`."
   ]
  },
  {
   "cell_type": "code",
   "execution_count": 3,
   "metadata": {},
   "outputs": [],
   "source": [
    "%%bash\n",
    "cd /tmp\n",
    "mkdir terminal_course"
   ]
  },
  {
   "cell_type": "markdown",
   "metadata": {},
   "source": [
    "3. Use `touch` to create a new file called `wikipedia_head` and copy it to `/tmp/terminal_course`."
   ]
  },
  {
   "cell_type": "code",
   "execution_count": 4,
   "metadata": {},
   "outputs": [
    {
     "name": "stdout",
     "output_type": "stream",
     "text": [
      "wikipedia_head\n"
     ]
    }
   ],
   "source": [
    "%%bash\n",
    "touch wikipedia_head\n",
    "cp wikipedia_head /tmp/terminal_course\n",
    "ls /tmp/terminal_course/"
   ]
  },
  {
   "cell_type": "markdown",
   "metadata": {},
   "source": [
    "4. Delete the original file `wikipedia_head`. "
   ]
  },
  {
   "cell_type": "code",
   "execution_count": 5,
   "metadata": {},
   "outputs": [],
   "source": [
    "!rm wikipedia_head"
   ]
  },
  {
   "cell_type": "markdown",
   "metadata": {},
   "source": [
    "5. Suppose a directory contains the two folders `src` and `dest`. Predict the outcome of the following two commands: `mv src dest` vs. `mv src dest/`"
   ]
  },
  {
   "cell_type": "code",
   "execution_count": 6,
   "metadata": {},
   "outputs": [
    {
     "name": "stdout",
     "output_type": "stream",
     "text": [
      "\u001b[34mdest\u001b[m\u001b[m\n",
      "\u001b[34msrc\u001b[m\u001b[m\n"
     ]
    }
   ],
   "source": [
    "%%bash\n",
    "\n",
    "mkdir /tmp/terminal_course/temp\n",
    "cd /tmp/terminal_course/temp\n",
    "mkdir src dest\n",
    "ls"
   ]
  },
  {
   "cell_type": "code",
   "execution_count": 7,
   "metadata": {},
   "outputs": [
    {
     "name": "stdout",
     "output_type": "stream",
     "text": [
      "\u001b[34mdest\u001b[m\u001b[m\n"
     ]
    }
   ],
   "source": [
    "%%bash\n",
    "cd /tmp/terminal_course/temp\n",
    "mv src dest\n",
    "ls"
   ]
  },
  {
   "cell_type": "code",
   "execution_count": 8,
   "metadata": {},
   "outputs": [
    {
     "name": "stdout",
     "output_type": "stream",
     "text": [
      "\u001b[34msrc\u001b[m\u001b[m\n"
     ]
    }
   ],
   "source": [
    "%%bash\n",
    "ls /tmp/terminal_course/temp/dest "
   ]
  },
  {
   "cell_type": "code",
   "execution_count": 9,
   "metadata": {},
   "outputs": [],
   "source": [
    "!rm -rf /tmp/terminal_course/temp"
   ]
  },
  {
   "cell_type": "code",
   "execution_count": 10,
   "metadata": {},
   "outputs": [
    {
     "name": "stdout",
     "output_type": "stream",
     "text": [
      "\u001b[34mdest\u001b[m\u001b[m\n",
      "\u001b[34msrc\u001b[m\u001b[m\n"
     ]
    }
   ],
   "source": [
    "%%bash\n",
    "\n",
    "mkdir /tmp/terminal_course/temp\n",
    "cd /tmp/terminal_course/temp\n",
    "mkdir src dest\n",
    "ls"
   ]
  },
  {
   "cell_type": "code",
   "execution_count": 11,
   "metadata": {},
   "outputs": [
    {
     "name": "stdout",
     "output_type": "stream",
     "text": [
      "\u001b[34mdest\u001b[m\u001b[m\n"
     ]
    }
   ],
   "source": [
    "%%bash\n",
    "cd /tmp/terminal_course/temp \n",
    "mv src dest/\n",
    "ls"
   ]
  },
  {
   "cell_type": "code",
   "execution_count": 12,
   "metadata": {},
   "outputs": [
    {
     "name": "stdout",
     "output_type": "stream",
     "text": [
      "\u001b[34msrc\u001b[m\u001b[m\n"
     ]
    }
   ],
   "source": [
    "!ls /tmp/terminal_course/temp/dest/ "
   ]
  },
  {
   "cell_type": "code",
   "execution_count": 13,
   "metadata": {},
   "outputs": [
    {
     "name": "stdout",
     "output_type": "stream",
     "text": [
      "wikipedia_head\n"
     ]
    }
   ],
   "source": [
    "!rm -rf /tmp/terminal_course/temp\n",
    "!ls /tmp/terminal_course"
   ]
  },
  {
   "cell_type": "markdown",
   "metadata": {},
   "source": [
    "**Conclusion**: The commands `mv src dest` and `mv src dest/` have no practical difference so `/` is redundant."
   ]
  },
  {
   "cell_type": "markdown",
   "metadata": {},
   "source": [
    "6. Rename the file `wikipedia_head` in `/tmp/terminal_course` to `wiki_head.sh`."
   ]
  },
  {
   "cell_type": "code",
   "execution_count": 14,
   "metadata": {},
   "outputs": [
    {
     "name": "stdout",
     "output_type": "stream",
     "text": [
      "wiki_head.sh\n"
     ]
    }
   ],
   "source": [
    "%%bash\n",
    "mv /tmp/terminal_course/wikipedia_head /tmp/terminal_course/wiki_head.sh\n",
    "ls /tmp/terminal_course/"
   ]
  },
  {
   "cell_type": "markdown",
   "metadata": {},
   "source": [
    "7. One can use also `>>` to write to files. Can you find out the difference to `>`?"
   ]
  },
  {
   "cell_type": "code",
   "execution_count": 15,
   "metadata": {},
   "outputs": [
    {
     "name": "stdout",
     "output_type": "stream",
     "text": [
      "line 2\n",
      "line 3\n"
     ]
    }
   ],
   "source": [
    "%%bash\n",
    "cd /tmp/terminal_course\n",
    "echo \"line 1\" > wiki_head.sh\n",
    "echo \"line 2\" > wiki_head.sh\n",
    "echo \"line 3\" >> wiki_head.sh\n",
    "cat wiki_head.sh"
   ]
  },
  {
   "cell_type": "markdown",
   "metadata": {},
   "source": [
    "`>` overwrites the file and `>>` appends to the file."
   ]
  },
  {
   "cell_type": "markdown",
   "metadata": {},
   "source": [
    "8. Write the following into that file, one line at a time:\n",
    "\n",
    ">     #!/bin/sh\n",
    ">     curl --head --silent https://en.wikipedia.org\n",
    "\n",
    "The first line might be tricky to get working. It’s helpful to know that `#` starts a comment in Bash, and `!` has a special meaning even within double-quoted (`\"`) strings. Bash treats single-quoted strings (`'`) differently: they will do the trick in this case. See the [Bash quoting](https://www.gnu.org/software/bash/manual/html_node/Quoting.html) manual page for more information."
   ]
  },
  {
   "cell_type": "code",
   "execution_count": 16,
   "metadata": {},
   "outputs": [
    {
     "name": "stdout",
     "output_type": "stream",
     "text": [
      "#!/bin/sh\n"
     ]
    }
   ],
   "source": [
    "%%bash\n",
    "cd /tmp/terminal_course \n",
    "echo '#!/bin/sh' > wiki_head.sh\n",
    "cat wiki_head.sh"
   ]
  },
  {
   "cell_type": "code",
   "execution_count": 17,
   "metadata": {},
   "outputs": [
    {
     "name": "stdout",
     "output_type": "stream",
     "text": [
      "#!/bin/sh\n",
      "curl --head --silent https://en.wikipedia.org\n"
     ]
    }
   ],
   "source": [
    "%%bash\n",
    "cd /tmp/terminal_course \n",
    "echo 'curl --head --silent https://en.wikipedia.org' >> wiki_head.sh\n",
    "cat wiki_head.sh"
   ]
  },
  {
   "cell_type": "markdown",
   "metadata": {},
   "source": [
    "9. Try to execute the file, i.e., type the path to the script (`./wiki_head.sh`)\n",
    "   into your shell and press enter. Understand why it doesn’t work by consulting the output of `ls` (*hint*: look at the permission bits of the file)."
   ]
  },
  {
   "cell_type": "markdown",
   "metadata": {},
   "source": [
    "```bash \n",
    "cd /tmp/terminal_course \n",
    "./wiki_head.sh\n",
    "```\n",
    "> bash: line 2: ./wiki_head.sh: Permission denied"
   ]
  },
  {
   "cell_type": "code",
   "execution_count": 18,
   "metadata": {},
   "outputs": [
    {
     "name": "stdout",
     "output_type": "stream",
     "text": [
      "total 8\n"
     ]
    },
    {
     "name": "stdout",
     "output_type": "stream",
     "text": [
      "-rw-r--r--@ 1 omer  wheel    56B Dec 17 21:54 wiki_head.sh\n"
     ]
    }
   ],
   "source": [
    "%%bash\n",
    "cd /tmp/terminal_course \n",
    "ls -lh"
   ]
  },
  {
   "cell_type": "markdown",
   "metadata": {},
   "source": [
    "- `-` mean the type of the file, `-` for a file and `d` for a directory\n",
    "- `rwx` mean read, write and execute permission for the user\n",
    "- second `rwx` mean read, write and execute permission for the group\n",
    "- third `rwx` mean read, write and execute permission for others\n",
    "- 1 reference to the file name\n",
    "- omer is the name of the user\n",
    "- wheel is the name of the group\n",
    "- file size 56 Bytes\n",
    "- last modified on 17th Dec 20:04"
   ]
  },
  {
   "cell_type": "markdown",
   "metadata": {},
   "source": [
    "So we don't have any `x` execute permission in order to be able to execute the file using `./filename` command."
   ]
  },
  {
   "cell_type": "markdown",
   "metadata": {},
   "source": [
    "10. Run the command by explicitly starting the `sh` interpreter, and giving it the file `wiki_head.sh` as the first argument, i.e. `sh wiki_head.sh`. Why does this work, while `./wiki_head.sh` didn’t?"
   ]
  },
  {
   "cell_type": "code",
   "execution_count": 19,
   "metadata": {},
   "outputs": [
    {
     "name": "stdout",
     "output_type": "stream",
     "text": [
      "HTTP/2 301 \n",
      "date: Tue, 17 Dec 2024 20:49:42 GMT\n",
      "server: mw-web.eqiad.main-6d9d5bfd99-qpdm4\n",
      "x-content-type-options: nosniff\n",
      "vary: Accept-Encoding,X-Forwarded-Proto,Cookie,Authorization\n",
      "cache-control: s-maxage=1200, must-revalidate, max-age=0\n",
      "last-modified: Tue, 17 Dec 2024 20:49:42 GMT\n",
      "location: https://en.wikipedia.org/wiki/Main_Page\n",
      "content-length: 0\n",
      "content-type: text/html; charset=UTF-8\n",
      "age: 287\n",
      "x-cache: cp3070 miss, cp3070 hit/617\n",
      "x-cache-status: hit-front\n",
      "server-timing: cache;desc=\"hit-front\", host;desc=\"cp3070\"\n",
      "strict-transport-security: max-age=106384710; includeSubDomains; preload\n",
      "report-to: { \"group\": \"wm_nel\", \"max_age\": 604800, \"endpoints\": [{ \"url\": \"https://intake-logging.wikimedia.org/v1/events?stream=w3c.reportingapi.network_error&schema_uri=/w3c/reportingapi/network_error/1.0.0\" }] }\n",
      "nel: { \"report_to\": \"wm_nel\", \"max_age\": 604800, \"failure_fraction\": 0.05, \"success_fraction\": 0.0}\n",
      "set-cookie: WMF-Last-Access=17-Dec-2024;Path=/;HttpOnly;secure;Expires=Sat, 18 Jan 2025 12:00:00 GMT\n",
      "set-cookie: WMF-Last-Access-Global=17-Dec-2024;Path=/;Domain=.wikipedia.org;HttpOnly;secure;Expires=Sat, 18 Jan 2025 12:00:00 GMT\n",
      "x-client-ip: 185.128.121.146\n",
      "set-cookie: GeoIP=DE:BY:Ingolstadt:48.76:11.41:v4; Path=/; secure; Domain=.wikipedia.org\n",
      "set-cookie: NetworkProbeLimit=0.001;Path=/;Secure;SameSite=Lax;Max-Age=3600\n",
      "\n"
     ]
    }
   ],
   "source": [
    "%%bash\n",
    "cd /tmp/terminal_course\n",
    "sh wiki_head.sh"
   ]
  },
  {
   "cell_type": "markdown",
   "metadata": {},
   "source": [
    "**Conclusion:** The reason we are able to use `sh` command but can not directly execute the file using `./filename` command is because `sh` only needs to *read* the file and take the content as the input, so it only needs the `r` permission which we already have, that means if are able to change the user permissions to allow execution, we should be able to run the file directly using `./filename`."
   ]
  },
  {
   "cell_type": "markdown",
   "metadata": {},
   "source": [
    "11. Look up the `chmod` program (e.g. use `man chmod`). You also might find [this](https://en.wikipedia.org/wiki/File-system_permissions#Notation_of_traditional_Unix_permissions) useful."
   ]
  },
  {
   "cell_type": "markdown",
   "metadata": {},
   "source": [
    "Some useful `chmod` commands:\n",
    "\n",
    "```bash\n",
    "chmod 755 filename # change permission to rwxr-xr-x\n",
    "chmod 777 filename # give all permissions to everyone\n",
    "chmod 644 filename # change permission to rw-r--r-- (which is by default)\n",
    "chmod 000 filename # no one has any permission\n",
    "chmod u+x filename # give execute permission to the user\n",
    "chmod u-x filename # take execute permission to the user\n",
    "chmod ugo+xr filename # give execute and read permission to the user, group and others\n",
    "```"
   ]
  },
  {
   "cell_type": "code",
   "execution_count": 20,
   "metadata": {},
   "outputs": [
    {
     "name": "stdout",
     "output_type": "stream",
     "text": [
      "total 8\n",
      "-rwxr--r--@ 1 omer  wheel    56B Dec 17 21:54 \u001b[31mwiki_head.sh\u001b[m\u001b[m\n"
     ]
    }
   ],
   "source": [
    "%%bash\n",
    "cd /tmp/terminal_course \n",
    "chmod u+x wiki_head.sh\n",
    "ls -lh"
   ]
  },
  {
   "cell_type": "code",
   "execution_count": 21,
   "metadata": {},
   "outputs": [
    {
     "name": "stdout",
     "output_type": "stream",
     "text": [
      "total 8\n",
      "----------  1 omer  wheel    56B Dec 17 21:54 wiki_head.sh\n"
     ]
    }
   ],
   "source": [
    "%%bash \n",
    "cd /tmp/terminal_course \n",
    "chmod 000 wiki_head.sh\n",
    "ls -lh"
   ]
  },
  {
   "cell_type": "code",
   "execution_count": 22,
   "metadata": {},
   "outputs": [
    {
     "name": "stdout",
     "output_type": "stream",
     "text": [
      "total 8\n",
      "-r-xr-xr-x@ 1 omer  wheel    56B Dec 17 21:54 \u001b[31mwiki_head.sh\u001b[m\u001b[m\n"
     ]
    }
   ],
   "source": [
    "%%bash \n",
    "cd /tmp/terminal_course \n",
    "chmod ugo+xr wiki_head.sh\n",
    "ls -lh"
   ]
  },
  {
   "cell_type": "markdown",
   "metadata": {},
   "source": [
    "12. Use `chmod` to make it possible to run the command `./wiki_head.sh` rather than having to type `sh wiki_head.sh`. How does your shell know that the file is supposed to be interpreted using `sh`? See [this page](https://en.wikipedia.org/wiki/Shebang_(Unix)) on the shebang line for more information."
   ]
  },
  {
   "cell_type": "code",
   "execution_count": 23,
   "metadata": {},
   "outputs": [
    {
     "name": "stdout",
     "output_type": "stream",
     "text": [
      "total 8\n",
      "-rwx------@ 1 omer  wheel    56B Dec 17 21:54 \u001b[31mwiki_head.sh\u001b[m\u001b[m\n"
     ]
    }
   ],
   "source": [
    "%%bash\n",
    "cd /tmp/terminal_course\n",
    "chmod u+xwr wiki_head.sh\n",
    "chmod go-xwr wiki_head.sh\n",
    "ls -lh"
   ]
  },
  {
   "cell_type": "code",
   "execution_count": 24,
   "metadata": {},
   "outputs": [
    {
     "name": "stdout",
     "output_type": "stream",
     "text": [
      "HTTP/2 301 \n",
      "date: Tue, 17 Dec 2024 20:49:42 GMT\n",
      "server: mw-web.eqiad.main-6d9d5bfd99-qpdm4\n",
      "x-content-type-options: nosniff\n",
      "vary: Accept-Encoding,X-Forwarded-Proto,Cookie,Authorization\n",
      "cache-control: s-maxage=1200, must-revalidate, max-age=0\n",
      "last-modified: Tue, 17 Dec 2024 20:49:42 GMT\n",
      "location: https://en.wikipedia.org/wiki/Main_Page\n",
      "content-length: 0\n",
      "content-type: text/html; charset=UTF-8\n",
      "age: 287\n",
      "x-cache: cp3070 miss, cp3070 hit/620\n",
      "x-cache-status: hit-front\n",
      "server-timing: cache;desc=\"hit-front\", host;desc=\"cp3070\"\n",
      "strict-transport-security: max-age=106384710; includeSubDomains; preload\n",
      "report-to: { \"group\": \"wm_nel\", \"max_age\": 604800, \"endpoints\": [{ \"url\": \"https://intake-logging.wikimedia.org/v1/events?stream=w3c.reportingapi.network_error&schema_uri=/w3c/reportingapi/network_error/1.0.0\" }] }\n",
      "nel: { \"report_to\": \"wm_nel\", \"max_age\": 604800, \"failure_fraction\": 0.05, \"success_fraction\": 0.0}\n",
      "set-cookie: WMF-Last-Access=17-Dec-2024;Path=/;HttpOnly;secure;Expires=Sat, 18 Jan 2025 12:00:00 GMT\n",
      "set-cookie: WMF-Last-Access-Global=17-Dec-2024;Path=/;Domain=.wikipedia.org;HttpOnly;secure;Expires=Sat, 18 Jan 2025 12:00:00 GMT\n",
      "x-client-ip: 185.128.121.146\n",
      "set-cookie: GeoIP=DE:BY:Ingolstadt:48.76:11.41:v4; Path=/; secure; Domain=.wikipedia.org\n",
      "set-cookie: NetworkProbeLimit=0.001;Path=/;Secure;SameSite=Lax;Max-Age=3600\n",
      "\n"
     ]
    }
   ],
   "source": [
    "%%bash \n",
    "cd /tmp/terminal_course \n",
    "./wiki_head.sh"
   ]
  },
  {
   "cell_type": "markdown",
   "metadata": {},
   "source": [
    "```bash\n",
    "cd /tmp/terminal_course \n",
    "chmod u-r wiki_head.sh\n",
    "ls -lh\n",
    "sh wiki_head.sh\n",
    "```\n",
    "> total 8\n",
    "\n",
    "> --w-r--r--  1 omer  wheel    56B Dec 17 20:04 wiki_head.sh\n",
    "\n",
    "> sh: wiki_head.sh: Permission denied"
   ]
  },
  {
   "cell_type": "markdown",
   "metadata": {},
   "source": [
    "Bingo, now even with sh command it could not execute it because I have taken the read permission from the user."
   ]
  },
  {
   "cell_type": "markdown",
   "metadata": {},
   "source": [
    "13. Use `curl`, `|`, and `>` to write the “last-modified” date output by `wiki_head` into a file called `last-modified.txt` in your home directory."
   ]
  },
  {
   "cell_type": "code",
   "execution_count": 25,
   "metadata": {},
   "outputs": [
    {
     "name": "stdout",
     "output_type": "stream",
     "text": [
      "last-modified: Tue, 17 Dec 2024 20:49:42 GMT\n"
     ]
    }
   ],
   "source": [
    "%%bash\n",
    "cd /tmp/terminal_course\n",
    "curl --head --silent https://en.wikipedia.org | grep \"last-modified\" > last-modified.txt\n",
    "cat last-modified.txt"
   ]
  },
  {
   "cell_type": "markdown",
   "metadata": {},
   "source": [
    "14. Use `|`, `grep`, and `wc -l`, in order to find out how often the word 'thou' (NOT words that contain 'thou') can be found in Shakespeare's work. *Hint*: Check [this](https://raw.githubusercontent.com/brunoklein99/deep-learning-notes/master/shakespeare.txt) out!"
   ]
  },
  {
   "cell_type": "code",
   "execution_count": 26,
   "metadata": {},
   "outputs": [
    {
     "name": "stdout",
     "output_type": "stream",
     "text": [
      "thou\n",
      "thou\n",
      "thou\n",
      "thou\n",
      "thou\n",
      "thou\n",
      "thou\n",
      "thou\n",
      "thou\n",
      "thou\n",
      "thou\n",
      "thou\n",
      "thou\n",
      "thou\n",
      "thou\n",
      "thou\n",
      "thou\n",
      "thou\n",
      "thou\n",
      "thou\n",
      "thou\n",
      "thou\n",
      "thou\n",
      "thou\n",
      "thou\n",
      "thou\n",
      "thou\n",
      "thou\n",
      "thou\n",
      "thou\n",
      "thou\n",
      "thou\n",
      "thou\n",
      "thou\n",
      "thou\n",
      "thou\n",
      "thou\n",
      "thou\n",
      "thou\n",
      "thou\n",
      "thou\n",
      "thou\n",
      "thou\n",
      "thou\n",
      "thou\n",
      "thou\n",
      "thou\n",
      "thou\n",
      "thou\n",
      "thou\n",
      "thou\n",
      "thou\n",
      "thou\n",
      "thou\n",
      "thou\n",
      "thou\n",
      "thou\n",
      "thou\n",
      "thou\n",
      "thou\n",
      "thou\n",
      "thou\n",
      "thou\n",
      "thou\n",
      "thou\n",
      "thou\n",
      "thou\n",
      "thou\n",
      "thou\n",
      "thou\n",
      "thou\n",
      "thou\n",
      "thou\n",
      "thou\n",
      "thou\n",
      "thou\n",
      "thou\n",
      "thou\n",
      "thou\n",
      "thou\n",
      "thou\n",
      "thou\n",
      "thou\n",
      "thou\n",
      "thou\n",
      "thou\n",
      "thou\n",
      "thou\n",
      "thou\n",
      "thou\n",
      "thou\n",
      "thou\n",
      "thou\n",
      "thou\n",
      "thou\n",
      "thou\n",
      "thou\n",
      "thou\n",
      "thou\n",
      "thou\n",
      "thou\n",
      "thou\n",
      "thou\n",
      "thou\n",
      "thou\n",
      "thou\n",
      "thou\n",
      "thou\n",
      "thou\n",
      "thou\n",
      "thou\n",
      "thou\n",
      "thou\n",
      "thou\n",
      "thou\n",
      "thou\n",
      "thou\n",
      "thou\n",
      "thou\n",
      "thou\n",
      "thou\n",
      "thou\n",
      "thou\n",
      "thou\n",
      "thou\n",
      "thou\n",
      "thou\n",
      "thou\n",
      "thou\n",
      "thou\n",
      "thou\n",
      "thou\n",
      "thou\n",
      "thou\n",
      "thou\n",
      "thou\n",
      "thou\n",
      "thou\n",
      "thou\n",
      "thou\n",
      "thou\n",
      "thou\n",
      "thou\n",
      "thou\n",
      "thou\n",
      "thou\n",
      "thou\n",
      "thou\n",
      "thou\n",
      "thou\n",
      "thou\n",
      "thou\n",
      "thou\n",
      "thou\n",
      "thou\n",
      "thou\n",
      "thou\n",
      "thou\n",
      "thou\n",
      "thou\n",
      "thou\n",
      "thou\n",
      "thou\n",
      "thou\n",
      "thou\n",
      "thou\n",
      "thou\n",
      "thou\n",
      "thou\n",
      "thou\n",
      "thou\n",
      "thou\n",
      "thou\n",
      "thou\n",
      "thou\n",
      "thou\n",
      "thou\n",
      "thou\n",
      "thou\n",
      "thou\n",
      "thou\n",
      "thou\n",
      "thou\n",
      "thou\n",
      "thou\n",
      "thou\n",
      "thou\n",
      "thou\n",
      "thou\n",
      "thou\n",
      "thou\n",
      "thou\n",
      "thou\n",
      "thou\n",
      "thou\n",
      "thou\n",
      "thou\n",
      "thou\n",
      "thou\n",
      "thou\n",
      "thou\n",
      "thou\n",
      "thou\n",
      "thou\n",
      "thou\n",
      "thou\n",
      "thou\n",
      "thou\n",
      "thou\n",
      "thou\n",
      "thou\n",
      "thou\n",
      "thou\n",
      "thou\n",
      "thou\n",
      "thou\n",
      "thou\n",
      "thou\n",
      "thou\n",
      "thou\n",
      "thou\n",
      "thou\n",
      "thou\n",
      "thou\n",
      "thou\n",
      "thou\n",
      "thou\n",
      "thou\n",
      "thou\n",
      "thou\n",
      "thou\n",
      "thou\n",
      "thou\n",
      "thou\n",
      "thou\n",
      "thou\n",
      "thou\n",
      "thou\n",
      "thou\n",
      "thou\n",
      "thou\n",
      "thou\n",
      "thou\n",
      "thou\n",
      "thou\n",
      "thou\n",
      "thou\n",
      "thou\n",
      "thou\n",
      "thou\n",
      "thou\n",
      "thou\n",
      "thou\n",
      "thou\n",
      "thou\n",
      "thou\n",
      "thou\n",
      "thou\n",
      "thou\n",
      "thou\n",
      "thou\n",
      "thou\n",
      "thou\n",
      "thou\n",
      "thou\n",
      "thou\n",
      "thou\n",
      "thou\n",
      "thou\n",
      "thou\n",
      "thou\n",
      "thou\n",
      "thou\n",
      "thou\n",
      "thou\n",
      "thou\n",
      "thou\n",
      "thou\n",
      "thou\n",
      "thou\n",
      "thou\n",
      "thou\n",
      "thou\n",
      "thou\n",
      "thou\n",
      "thou\n",
      "thou\n",
      "thou\n",
      "thou\n"
     ]
    }
   ],
   "source": [
    "%%bash \n",
    "cp -r data /tmp/terminal_course\n",
    "cd /tmp/terminal_course/data\n",
    "cat shakespeare.txt | grep -o 'thou'"
   ]
  },
  {
   "cell_type": "code",
   "execution_count": 27,
   "metadata": {},
   "outputs": [
    {
     "name": "stdout",
     "output_type": "stream",
     "text": [
      "     289\n"
     ]
    }
   ],
   "source": [
    "%%bash\n",
    "cd /tmp/terminal_course/data \n",
    "cat shakespeare.txt | grep -o 'thou' | wc -l"
   ]
  },
  {
   "cell_type": "markdown",
   "metadata": {},
   "source": [
    "15. Display lines 1789-1815 from the Shakespeare file using two different methods: `head` and `tail` as well as `sed`. *Hint*: Check their `man` pages."
   ]
  },
  {
   "cell_type": "code",
   "execution_count": 28,
   "metadata": {},
   "outputs": [
    {
     "name": "stdout",
     "output_type": "stream",
     "text": [
      "From fairest creatures we desire increase,\n"
     ]
    },
    {
     "name": "stdout",
     "output_type": "stream",
     "text": [
      "That thereby beauty's rose might never die,\n",
      "But as the riper should by time decease,\n",
      "His tender heir might bear his memory:\n",
      "But thou contracted to thine own bright eyes,\n",
      "Feed'st thy light's flame with self-substantial fuel,\n"
     ]
    }
   ],
   "source": [
    "%%bash\n",
    "cd /tmp/terminal_course/data \n",
    "cat shakespeare.txt | head -n 10 | tail -n $((10 - (5 - 1)))"
   ]
  },
  {
   "cell_type": "markdown",
   "metadata": {},
   "source": [
    "10 - (5 - 1) is because otherwise line #5 won't be included."
   ]
  },
  {
   "cell_type": "code",
   "execution_count": 29,
   "metadata": {},
   "outputs": [
    {
     "name": "stdout",
     "output_type": "stream",
     "text": [
      "My most true mind thus maketh mine untrue.\n",
      "\n",
      "\n",
      "\n",
      "Or whether doth my mind being crowned with you\n",
      "Drink up the monarch's plague this flattery?\n",
      "Or whether shall I say mine eye saith true,\n",
      "And that your love taught it this alchemy?\n",
      "To make of monsters, and things indigest,\n",
      "Such cherubins as your sweet self resemble,\n",
      "Creating every bad a perfect best\n",
      "As fast as objects to his beams assemble:\n",
      "O 'tis the first, 'tis flattery in my seeing,\n",
      "And my great mind most kingly drinks it up,\n",
      "Mine eye well knows what with his gust is 'greeing,  \n",
      "And to his palate doth prepare the cup.\n",
      "If it be poisoned, 'tis the lesser sin,\n",
      "That mine eye loves it and doth first begin.\n",
      "\n",
      "\n",
      "\n",
      "Those lines that I before have writ do lie,\n",
      "Even those that said I could not love you dearer,\n",
      "Yet then my judgment knew no reason why,\n",
      "My most full flame should afterwards burn clearer,\n",
      "But reckoning time, whose millioned accidents\n",
      "Creep in 'twixt vows, and change decrees of kings,\n"
     ]
    }
   ],
   "source": [
    "%%bash\n",
    "cd /tmp/terminal_course/data \n",
    "cat shakespeare.txt | head -n 1815 | tail -n $((1815 - (1789 - 1)))"
   ]
  },
  {
   "cell_type": "code",
   "execution_count": 30,
   "metadata": {},
   "outputs": [
    {
     "name": "stdout",
     "output_type": "stream",
     "text": [
      "From fairest creatures we desire increase,\n",
      "That thereby beauty's rose might never die,\n",
      "But as the riper should by time decease,\n"
     ]
    },
    {
     "name": "stdout",
     "output_type": "stream",
     "text": [
      "His tender heir might bear his memory:\n",
      "But thou contracted to thine own bright eyes,\n",
      "Feed'st thy light's flame with self-substantial fuel,\n"
     ]
    }
   ],
   "source": [
    "%%bash \n",
    "cd /tmp/terminal_course/data \n",
    "sed -n '5,10p' shakespeare.txt"
   ]
  },
  {
   "cell_type": "code",
   "execution_count": 31,
   "metadata": {},
   "outputs": [
    {
     "name": "stdout",
     "output_type": "stream",
     "text": [
      "My most true mind thus maketh mine untrue.\n",
      "\n",
      "\n",
      "\n",
      "Or whether doth my mind being crowned with you\n",
      "Drink up the monarch's plague this flattery?\n",
      "Or whether shall I say mine eye saith true,\n",
      "And that your love taught it this alchemy?\n",
      "To make of monsters, and things indigest,\n",
      "Such cherubins as your sweet self resemble,\n",
      "Creating every bad a perfect best\n",
      "As fast as objects to his beams assemble:\n",
      "O 'tis the first, 'tis flattery in my seeing,\n",
      "And my great mind most kingly drinks it up,\n",
      "Mine eye well knows what with his gust is 'greeing,  \n",
      "And to his palate doth prepare the cup.\n",
      "If it be poisoned, 'tis the lesser sin,\n",
      "That mine eye loves it and doth first begin.\n",
      "\n",
      "\n",
      "\n",
      "Those lines that I before have writ do lie,\n",
      "Even those that said I could not love you dearer,\n",
      "Yet then my judgment knew no reason why,\n",
      "My most full flame should afterwards burn clearer,\n",
      "But reckoning time, whose millioned accidents\n",
      "Creep in 'twixt vows, and change decrees of kings,\n"
     ]
    }
   ],
   "source": [
    "%%bash \n",
    "cd /tmp/terminal_course/data \n",
    "sed -n '1789,1815p' shakespeare.txt"
   ]
  },
  {
   "cell_type": "markdown",
   "metadata": {},
   "source": [
    "```bash\n",
    "sed -n 'a,bp' filename\n",
    "```\n",
    "\n",
    "`-n` means it will only print the required lines, without `-n` it will print the complete file and repeat the required lines from a to b\n",
    "\n",
    "`'a,bp'` means line number a to line number b, both boundaries included and p stands for print"
   ]
  },
  {
   "cell_type": "markdown",
   "metadata": {},
   "source": [
    "16. Assume `echo \"hello_world_content\" > \"hello_world.txt\"` has been run. Predict the output and understand their differences in the following command pairs: \n",
    "    - `ls | echo` vs. `ls | xargs echo`\n",
    "    - `ls | cat` vs. `ls | xargs cat`\n",
    "    - `echo \"this_file_does_not_exists.txt\" | cat` vs. `echo \"this_file_does_not_exists.txt\" | xargs cat`"
   ]
  },
  {
   "cell_type": "code",
   "execution_count": 32,
   "metadata": {},
   "outputs": [
    {
     "name": "stdout",
     "output_type": "stream",
     "text": [
      "hello_world_content\n"
     ]
    }
   ],
   "source": [
    "%%bash\n",
    "mkdir /tmp/terminal_course/temp\n",
    "cd /tmp/terminal_course/temp\n",
    "echo \"hello_world_content\" > \"hello_world.txt\"\n",
    "cat hello_world.txt"
   ]
  },
  {
   "cell_type": "code",
   "execution_count": 34,
   "metadata": {},
   "outputs": [
    {
     "name": "stdout",
     "output_type": "stream",
     "text": [
      "\n"
     ]
    }
   ],
   "source": [
    "%%bash\n",
    "cd /tmp/terminal_course/temp\n",
    "ls | echo"
   ]
  },
  {
   "cell_type": "code",
   "execution_count": 35,
   "metadata": {},
   "outputs": [
    {
     "name": "stdout",
     "output_type": "stream",
     "text": [
      "hello_world.txt\n"
     ]
    }
   ],
   "source": [
    "%%bash\n",
    "cd /tmp/terminal_course/temp\n",
    "ls | xargs echo"
   ]
  },
  {
   "cell_type": "code",
   "execution_count": 36,
   "metadata": {},
   "outputs": [
    {
     "name": "stdout",
     "output_type": "stream",
     "text": [
      "hello_world.txt\n"
     ]
    }
   ],
   "source": [
    "%%bash\n",
    "cd /tmp/terminal_course/temp\n",
    "ls | cat"
   ]
  },
  {
   "cell_type": "code",
   "execution_count": 37,
   "metadata": {},
   "outputs": [
    {
     "name": "stdout",
     "output_type": "stream",
     "text": [
      "hello_world_content\n"
     ]
    }
   ],
   "source": [
    "%%bash\n",
    "cd /tmp/terminal_course/temp\n",
    "ls | xargs cat"
   ]
  },
  {
   "cell_type": "code",
   "execution_count": 38,
   "metadata": {},
   "outputs": [
    {
     "name": "stdout",
     "output_type": "stream",
     "text": [
      "this_file_does_not_exist\n"
     ]
    }
   ],
   "source": [
    "%%bash\n",
    "cd /tmp/terminal_course/temp \n",
    "echo \"this_file_does_not_exist\" | cat"
   ]
  },
  {
   "cell_type": "markdown",
   "metadata": {},
   "source": [
    "```bash\n",
    "cd /tmp/terminal_course/temp \n",
    "echo \"this_file_does_not_exist\" | xargs cat\n",
    "```\n",
    "> cat: this_file_does_not_exist: No such file or directory"
   ]
  },
  {
   "cell_type": "markdown",
   "metadata": {},
   "source": [
    "*Conclusion:* `echo` command does not input from the pipeline but it needs to get input using `xargs` when piping. `cat` on the other hand treats input as just a raw text when getting it through the piping and treats as an argument when getting the input through `xargs`.\n",
    "\n",
    "The following three commands have exactly the same output:\n",
    "```bash\n",
    "ls\n",
    "ls | xargs echo\n",
    "ls | cat\n",
    "```\n",
    "> hello_world.txt"
   ]
  },
  {
   "cell_type": "code",
   "execution_count": 41,
   "metadata": {},
   "outputs": [],
   "source": [
    "!rm -rf /tmp/terminal_course/"
   ]
  }
 ],
 "metadata": {
  "kernelspec": {
   "display_name": "jupyter_env_1",
   "language": "python",
   "name": "python3"
  },
  "language_info": {
   "codemirror_mode": {
    "name": "ipython",
    "version": 3
   },
   "file_extension": ".py",
   "mimetype": "text/x-python",
   "name": "python",
   "nbconvert_exporter": "python",
   "pygments_lexer": "ipython3",
   "version": "3.11.9"
  }
 },
 "nbformat": 4,
 "nbformat_minor": 4
}
